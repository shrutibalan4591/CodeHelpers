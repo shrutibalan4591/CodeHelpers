{
  "nbformat": 4,
  "nbformat_minor": 0,
  "metadata": {
    "colab": {
      "name": "XGBRegressor.ipynb",
      "provenance": [],
      "authorship_tag": "ABX9TyN3N9KvN/6cORwTFeaz01rW"
    },
    "kernelspec": {
      "name": "python3",
      "display_name": "Python 3"
    },
    "language_info": {
      "name": "python"
    }
  },
  "cells": [
    {
      "cell_type": "markdown",
      "metadata": {
        "id": "lRDD7dsDgIhA"
      },
      "source": [
        "Using XGBRegressor to predict regresion data."
      ]
    },
    {
      "cell_type": "code",
      "metadata": {
        "id": "NpWBeEz1brgm"
      },
      "source": [
        "# Load libraries\n",
        "import xgboost as xgb\n",
        "from sklearn.datasets import load_boston\n",
        "from sklearn.model_selection import train_test_split\n",
        "from sklearn.model_selection import cross_val_score, KFold\n",
        "from sklearn.metrics import mean_squared_error\n",
        "import matplotlib.pyplot as plt "
      ],
      "execution_count": 1,
      "outputs": []
    },
    {
      "cell_type": "code",
      "metadata": {
        "id": "RQznpIwRgX-d"
      },
      "source": [
        "# Loading data - Boston house-price data\n",
        "boston = load_boston()\n",
        "x, y = boston.data, boston.target\n",
        "\n",
        "# Spitting into train and test sets\n",
        "xtrain, xtest, ytrain, ytest=train_test_split(x, y, test_size=0.15)"
      ],
      "execution_count": 2,
      "outputs": []
    },
    {
      "cell_type": "code",
      "metadata": {
        "colab": {
          "base_uri": "https://localhost:8080/"
        },
        "id": "bqCLXjKFgoTN",
        "outputId": "d0176b14-2108-4160-ab56-843547ba3407"
      },
      "source": [
        "# Defining and fitting the model\n",
        "xgbr = xgb.XGBRegressor(verbosity=0) \n",
        "print(xgbr)"
      ],
      "execution_count": 3,
      "outputs": [
        {
          "output_type": "stream",
          "text": [
            "XGBRegressor(base_score=0.5, booster='gbtree', colsample_bylevel=1,\n",
            "             colsample_bynode=1, colsample_bytree=1, gamma=0,\n",
            "             importance_type='gain', learning_rate=0.1, max_delta_step=0,\n",
            "             max_depth=3, min_child_weight=1, missing=None, n_estimators=100,\n",
            "             n_jobs=1, nthread=None, objective='reg:linear', random_state=0,\n",
            "             reg_alpha=0, reg_lambda=1, scale_pos_weight=1, seed=None,\n",
            "             silent=None, subsample=1, verbosity=0)\n"
          ],
          "name": "stdout"
        }
      ]
    },
    {
      "cell_type": "code",
      "metadata": {
        "colab": {
          "base_uri": "https://localhost:8080/"
        },
        "id": "tGlsDQacgx7c",
        "outputId": "191086e8-1dba-4bb9-86f6-157bf2673161"
      },
      "source": [
        "xgbr.fit(xtrain, ytrain)"
      ],
      "execution_count": 4,
      "outputs": [
        {
          "output_type": "execute_result",
          "data": {
            "text/plain": [
              "XGBRegressor(base_score=0.5, booster='gbtree', colsample_bylevel=1,\n",
              "             colsample_bynode=1, colsample_bytree=1, gamma=0,\n",
              "             importance_type='gain', learning_rate=0.1, max_delta_step=0,\n",
              "             max_depth=3, min_child_weight=1, missing=None, n_estimators=100,\n",
              "             n_jobs=1, nthread=None, objective='reg:linear', random_state=0,\n",
              "             reg_alpha=0, reg_lambda=1, scale_pos_weight=1, seed=None,\n",
              "             silent=None, subsample=1, verbosity=0)"
            ]
          },
          "metadata": {
            "tags": []
          },
          "execution_count": 4
        }
      ]
    },
    {
      "cell_type": "code",
      "metadata": {
        "colab": {
          "base_uri": "https://localhost:8080/"
        },
        "id": "L0JpRja4g2Ac",
        "outputId": "13ead100-56a3-4478-88dd-cade29cd7b72"
      },
      "source": [
        "# Predicting and checking the results\n",
        "score = xgbr.score(xtrain, ytrain)  \n",
        "print(\"Training score: \", score)"
      ],
      "execution_count": 7,
      "outputs": [
        {
          "output_type": "stream",
          "text": [
            "Training score:  0.9711727129577835\n"
          ],
          "name": "stdout"
        }
      ]
    },
    {
      "cell_type": "code",
      "metadata": {
        "colab": {
          "base_uri": "https://localhost:8080/"
        },
        "id": "Yl6NrfU_g-I_",
        "outputId": "9af4b812-98eb-4703-cd4c-2f9058e45fca"
      },
      "source": [
        "# cross-validation method to evaluate the training score.\n",
        "scores = cross_val_score(xgbr, xtrain, ytrain,cv=10)\n",
        "print(\"Mean cross-validation score: %.2f\" % scores.mean())"
      ],
      "execution_count": 6,
      "outputs": [
        {
          "output_type": "stream",
          "text": [
            "Mean cross-validation score: 0.86\n"
          ],
          "name": "stdout"
        }
      ]
    },
    {
      "cell_type": "code",
      "metadata": {
        "colab": {
          "base_uri": "https://localhost:8080/"
        },
        "id": "bdv-7KWvhGQS",
        "outputId": "793b79f9-4cd1-4043-a430-457a7aca1f4e"
      },
      "source": [
        "# KFlold method in cross-validation it goes as below.\n",
        "kfold = KFold(n_splits=10, shuffle=True)\n",
        "kf_cv_scores = cross_val_score(xgbr, xtrain, ytrain, cv=kfold )\n",
        "print(\"K-fold CV average score: %.2f\" % kf_cv_scores.mean())"
      ],
      "execution_count": 8,
      "outputs": [
        {
          "output_type": "stream",
          "text": [
            "K-fold CV average score: 0.84\n"
          ],
          "name": "stdout"
        }
      ]
    },
    {
      "cell_type": "markdown",
      "metadata": {
        "id": "8SbF4bVFhRxo"
      },
      "source": [
        "Both methods show that the model is around 87 %  accurate on average."
      ]
    },
    {
      "cell_type": "code",
      "metadata": {
        "colab": {
          "base_uri": "https://localhost:8080/"
        },
        "id": "yUWlBm5ohNaO",
        "outputId": "21045ffe-2726-47fe-8b0f-651c0a1a30b1"
      },
      "source": [
        "# Prediction on test data\n",
        "ypred = xgbr.predict(xtest)\n",
        "mse = mean_squared_error(ytest, ypred)\n",
        "print(\"MSE: %.2f\" % mse)\n",
        "\n",
        "print(\"RMSE: %.2f\" % (mse**(1/2.0)))"
      ],
      "execution_count": 9,
      "outputs": [
        {
          "output_type": "stream",
          "text": [
            "MSE: 15.77\n",
            "RMSE: 3.97\n"
          ],
          "name": "stdout"
        }
      ]
    },
    {
      "cell_type": "code",
      "metadata": {
        "colab": {
          "base_uri": "https://localhost:8080/",
          "height": 281
        },
        "id": "Q6Ig-B9BhdUB",
        "outputId": "42f2b973-7ff8-4fa2-e305-8898fc27a6a7"
      },
      "source": [
        "# Plotting\n",
        "x_ax = range(len(ytest))\n",
        "plt.plot(x_ax, ytest, label=\"original\")\n",
        "plt.plot(x_ax, ypred, label=\"predicted\")\n",
        "plt.title(\"Boston test and predicted data\")\n",
        "plt.legend()\n",
        "plt.show()"
      ],
      "execution_count": 10,
      "outputs": [
        {
          "output_type": "display_data",
          "data": {
            "image/png": "[encoded data removed]",
            "text/plain": [
              "<Figure size 432x288 with 1 Axes>"
            ]
          },
          "metadata": {
            "tags": [],
            "needs_background": "light"
          }
        }
      ]
    },
    {
      "cell_type": "code",
      "metadata": {
        "id": "2aiGj3e5hkFd"
      },
      "source": [
        ""
      ],
      "execution_count": null,
      "outputs": []
    }
  ]
}