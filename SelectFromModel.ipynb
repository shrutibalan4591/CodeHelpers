{
  "nbformat": 4,
  "nbformat_minor": 0,
  "metadata": {
    "colab": {
      "name": "SelectFromModel.ipynb",
      "provenance": [],
      "authorship_tag": "ABX9TyOUlkKNtGgNMLbypyYSoGC2"
    },
    "kernelspec": {
      "name": "python3",
      "display_name": "Python 3"
    },
    "language_info": {
      "name": "python"
    }
  },
  "cells": [
    {
      "cell_type": "markdown",
      "metadata": {
        "id": "9VhddRJB1TBw"
      },
      "source": [
        "**SelectFromModel** is a class for extracting best features of given dataset according to the importance of weights. The SelectFromModel is a meta-estimator that determines the weight importance by comparing to the given threshold value. "
      ]
    },
    {
      "cell_type": "code",
      "metadata": {
        "id": "TDn0MXO5V8Qz"
      },
      "source": [
        "# Import libraries\n",
        "from sklearn.feature_selection import SelectFromModel\n",
        "from sklearn.ensemble import AdaBoostRegressor\n",
        "from sklearn.datasets import load_boston\n",
        "from numpy import array"
      ],
      "execution_count": 1,
      "outputs": []
    },
    {
      "cell_type": "code",
      "metadata": {
        "colab": {
          "base_uri": "https://localhost:8080/"
        },
        "id": "3qMufWjE1MNG",
        "outputId": "7d3e8fd7-79a5-40e6-8019-f317cc3c2b1f"
      },
      "source": [
        "# Load dataset\n",
        "boston = load_boston()\n",
        "x = boston.data\n",
        "y = boston.target\n",
        "\n",
        "print(\"Feature data dimension: \", x.shape)"
      ],
      "execution_count": 2,
      "outputs": [
        {
          "output_type": "stream",
          "text": [
            "Feature data dimension:  (506, 13)\n"
          ],
          "name": "stdout"
        }
      ]
    },
    {
      "cell_type": "markdown",
      "metadata": {
        "id": "Xrl7GIWV18Ae"
      },
      "source": [
        "SelectFromModel requires an estimator and we can use AdaBoostRegressor class for this purpose. An estimator model must have attributes to provide the indexes of selected data like 'get_support()' function. We'll define model by default value which applies median method to set the threshold value and fit the model on x and y data.\n"
      ]
    },
    {
      "cell_type": "code",
      "metadata": {
        "id": "rgp8hSXD1p3f"
      },
      "source": [
        "estimator = AdaBoostRegressor(random_state=0, n_estimators=50)\n",
        "selector = SelectFromModel(estimator)\n",
        "selector = selector.fit(x, y) "
      ],
      "execution_count": 3,
      "outputs": []
    },
    {
      "cell_type": "markdown",
      "metadata": {
        "id": "yI6-u0xK2RKn"
      },
      "source": [
        "After the training, we'll get status of each feature data. To identify the selected features we can use get_support() function and filter out them from the features list. Finally, we'll get selected features names and respective data from the x data."
      ]
    },
    {
      "cell_type": "code",
      "metadata": {
        "colab": {
          "base_uri": "https://localhost:8080/"
        },
        "id": "6AvlRH7r2K4O",
        "outputId": "d95fd34e-7e06-4136-e720-114fdaf9f609"
      },
      "source": [
        "status = selector.get_support()\n",
        "print(\"Selection status: \", status) "
      ],
      "execution_count": 4,
      "outputs": [
        {
          "output_type": "stream",
          "text": [
            "Selection status:  [False False False False False  True False  True False False False False\n",
            "  True]\n"
          ],
          "name": "stdout"
        }
      ]
    },
    {
      "cell_type": "code",
      "metadata": {
        "colab": {
          "base_uri": "https://localhost:8080/"
        },
        "id": "YWyedJON2XQW",
        "outputId": "fbee5622-ac90-4d1c-9e39-8cce401d9188"
      },
      "source": [
        "features = array(boston.feature_names)\n",
        "print(\"All features:\")\n",
        "print(features) \n",
        "  \n",
        "print(\"Selected features:\")\n",
        "print(features[status])\n",
        "selector.transform(x) "
      ],
      "execution_count": 5,
      "outputs": [
        {
          "output_type": "stream",
          "text": [
            "All features:\n",
            "['CRIM' 'ZN' 'INDUS' 'CHAS' 'NOX' 'RM' 'AGE' 'DIS' 'RAD' 'TAX' 'PTRATIO'\n",
            " 'B' 'LSTAT']\n",
            "Selected features:\n",
            "['RM' 'DIS' 'LSTAT']\n"
          ],
          "name": "stdout"
        },
        {
          "output_type": "execute_result",
          "data": {
            "text/plain": [
              "array([[6.575 , 4.09  , 4.98  ],\n",
              "       [6.421 , 4.9671, 9.14  ],\n",
              "       [7.185 , 4.9671, 4.03  ],\n",
              "       ...,\n",
              "       [6.976 , 2.1675, 5.64  ],\n",
              "       [6.794 , 2.3889, 6.48  ],\n",
              "       [6.03  , 2.505 , 7.88  ]])"
            ]
          },
          "metadata": {
            "tags": []
          },
          "execution_count": 5
        }
      ]
    },
    {
      "cell_type": "code",
      "metadata": {
        "id": "-VwZfIMc2dPN"
      },
      "source": [
        ""
      ],
      "execution_count": 5,
      "outputs": []
    }
  ]
}