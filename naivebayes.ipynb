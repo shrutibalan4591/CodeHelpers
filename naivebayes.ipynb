{
  "nbformat": 4,
  "nbformat_minor": 0,
  "metadata": {
    "colab": {
      "name": "naivebayes.ipynb",
      "provenance": [],
      "authorship_tag": "ABX9TyPOV/YMmHqKfgu8FvXh9lh+"
    },
    "kernelspec": {
      "name": "python3",
      "display_name": "Python 3"
    }
  },
  "cells": [
    {
      "cell_type": "code",
      "metadata": {
        "id": "7onWnEGwC2lh"
      },
      "source": [
        "import pandas as pd\n",
        "dataset = pd.read_csv('/content/iphone_purchase_records.csv')"
      ],
      "execution_count": null,
      "outputs": []
    },
    {
      "cell_type": "code",
      "metadata": {
        "id": "JUuyIrwhyhEp"
      },
      "source": [
        "X = dataset.iloc[:,:-1].values\n",
        "y = dataset.iloc[:,3].values"
      ],
      "execution_count": null,
      "outputs": []
    },
    {
      "cell_type": "code",
      "metadata": {
        "id": "VPQEZzQoyqgF"
      },
      "source": [
        "from sklearn.preprocessing import LabelEncoder\n",
        "le_gender = LabelEncoder()\n",
        "X[:,0] = le_gender.fit_transform(X[:,0])"
      ],
      "execution_count": null,
      "outputs": []
    },
    {
      "cell_type": "code",
      "metadata": {
        "id": "L56LWVHQVW7K"
      },
      "source": [
        "from sklearn.model_selection import train_test_split\n",
        "X_train, X_test, Y_train, Y_test = train_test_split(X, y, test_size=0.25, random_state=0)"
      ],
      "execution_count": null,
      "outputs": []
    },
    {
      "cell_type": "code",
      "metadata": {
        "id": "qlHp86SnWJ-c"
      },
      "source": [
        "from sklearn.preprocessing import StandardScaler\n",
        "ss = StandardScaler()\n",
        "X_train = ss.fit_transform(X_train)\n",
        "X_test = ss.transform(X_test)"
      ],
      "execution_count": null,
      "outputs": []
    },
    {
      "cell_type": "code",
      "metadata": {
        "id": "zCqD4A5UWtaP",
        "colab": {
          "base_uri": "https://localhost:8080/",
          "height": 35
        },
        "outputId": "7db53ce0-3c20-42d7-9a06-3b55b6a6c07f"
      },
      "source": [
        "from sklearn.naive_bayes import GaussianNB\n",
        "classifier = GaussianNB()\n",
        "classifier.fit(X_train, Y_train)"
      ],
      "execution_count": null,
      "outputs": [
        {
          "output_type": "execute_result",
          "data": {
            "text/plain": [
              "GaussianNB(priors=None, var_smoothing=1e-09)"
            ]
          },
          "metadata": {
            "tags": []
          },
          "execution_count": 6
        }
      ]
    },
    {
      "cell_type": "code",
      "metadata": {
        "id": "nyt8Z4OLXY6S"
      },
      "source": [
        "y_pred = classifier.predict(X_test)"
      ],
      "execution_count": null,
      "outputs": []
    },
    {
      "cell_type": "code",
      "metadata": {
        "id": "ajxwbBRJbEO2",
        "colab": {
          "base_uri": "https://localhost:8080/",
          "height": 54
        },
        "outputId": "a8d399d5-ddf8-4610-877e-1c21a10f9f24"
      },
      "source": [
        "from sklearn import metrics\n",
        "cm = metrics.confusion_matrix(Y_test, y_pred) \n",
        "print(cm)"
      ],
      "execution_count": null,
      "outputs": [
        {
          "output_type": "stream",
          "text": [
            "[[66  2]\n",
            " [ 7 25]]\n"
          ],
          "name": "stdout"
        }
      ]
    },
    {
      "cell_type": "code",
      "metadata": {
        "id": "B-mrJBbccXuu",
        "colab": {
          "base_uri": "https://localhost:8080/",
          "height": 72
        },
        "outputId": "229ce92f-f6dc-43d3-9d77-54d15bda0916"
      },
      "source": [
        "accuracy = metrics.accuracy_score(Y_test, y_pred) \n",
        "print(\"Accuracy score:\",accuracy)\n",
        "precision = metrics.precision_score(Y_test, y_pred) \n",
        "print(\"Precision score:\",precision)\n",
        "recall = metrics.recall_score(Y_test, y_pred) \n",
        "print(\"Recall score:\",recall)"
      ],
      "execution_count": null,
      "outputs": [
        {
          "output_type": "stream",
          "text": [
            "Accuracy score: 0.91\n",
            "Precision score: 0.9259259259259259\n",
            "Recall score: 0.78125\n"
          ],
          "name": "stdout"
        }
      ]
    }
  ]
}