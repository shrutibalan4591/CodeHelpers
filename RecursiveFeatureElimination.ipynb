{
  "nbformat": 4,
  "nbformat_minor": 0,
  "metadata": {
    "colab": {
      "name": "RecursiveFeatureElimination.ipynb",
      "provenance": [],
      "collapsed_sections": [],
      "authorship_tag": "ABX9TyNZFOJlGX9xDCSYvGdY//6Z"
    },
    "kernelspec": {
      "name": "python3",
      "display_name": "Python 3"
    },
    "language_info": {
      "name": "python"
    }
  },
  "cells": [
    {
      "cell_type": "markdown",
      "metadata": {
        "id": "B_iEnZU8X_bf"
      },
      "source": [
        "Scikit-learn API provides RFE class that ranks features by recursive feature elimination to select best features. The method recursively eliminates the least important features based on specific attributes taken by estimator."
      ]
    },
    {
      "cell_type": "code",
      "metadata": {
        "id": "uPvRJU-mMtP1"
      },
      "source": [
        "# Import libraries\n",
        "from sklearn.feature_selection import RFE\n",
        "from sklearn.ensemble import AdaBoostRegressor\n",
        "from sklearn.datasets import load_boston\n",
        "from numpy import array"
      ],
      "execution_count": 1,
      "outputs": []
    },
    {
      "cell_type": "code",
      "metadata": {
        "colab": {
          "base_uri": "https://localhost:8080/"
        },
        "id": "YIBDDPPyYpzK",
        "outputId": "8dfeb405-142b-4742-9512-5e0390016802"
      },
      "source": [
        "# Load dataset\n",
        "boston = load_boston()\n",
        "x = boston.data\n",
        "y = boston.target\n",
        "\n",
        "print(\"Feature data dimension: \", x.shape)  "
      ],
      "execution_count": 2,
      "outputs": [
        {
          "output_type": "stream",
          "text": [
            "Feature data dimension:  (506, 13)\n"
          ],
          "name": "stdout"
        }
      ]
    },
    {
      "cell_type": "markdown",
      "metadata": {
        "id": "Qi600zGbaAnu"
      },
      "source": [
        "The feature data contains 13 columns of 506 rows, our purpose is to decrease those columns by selecting best 8 by their influence rank.  \n",
        " "
      ]
    },
    {
      "cell_type": "markdown",
      "metadata": {
        "id": "Uj7YI1RBaYJb"
      },
      "source": [
        "Next, we'll define the model by using RFE class. \n",
        "\n",
        "The class requires estimator and we can use AdaBoostRegressor meta-estimator model for this purpose. The target number of features to select is defined by n_feature_to_select parameter and step defines number of features to remove in each round. \n",
        "\n",
        "We'll fit the model on x and y training data."
      ]
    },
    {
      "cell_type": "code",
      "metadata": {
        "id": "w6RBbQmgZ5cO"
      },
      "source": [
        "estimator = AdaBoostRegressor(random_state=0, n_estimators=100)\n",
        "selector = RFE(estimator, n_features_to_select=8, step=1)\n",
        "selector = selector.fit(x, y)"
      ],
      "execution_count": 3,
      "outputs": []
    },
    {
      "cell_type": "code",
      "metadata": {
        "colab": {
          "base_uri": "https://localhost:8080/"
        },
        "id": "QhgAMtpnavTr",
        "outputId": "33668d0c-22e3-4fac-ad49-6a9f179eaeb7"
      },
      "source": [
        "# After fitting we can obtain selected features and their ranking positions.\n",
        "filter = selector.support_\n",
        "ranking = selector.ranking_\n",
        "\n",
        "print(\"Mask data: \", filter)\n",
        "print(\"Ranking: \", ranking) "
      ],
      "execution_count": 4,
      "outputs": [
        {
          "output_type": "stream",
          "text": [
            "Mask data:  [ True False False False  True  True False  True  True  True  True False\n",
            "  True]\n",
            "Ranking:  [1 5 3 6 1 1 4 1 1 1 1 2 1]\n"
          ],
          "name": "stdout"
        }
      ]
    },
    {
      "cell_type": "code",
      "metadata": {
        "colab": {
          "base_uri": "https://localhost:8080/"
        },
        "id": "BGr6Pxcga21e",
        "outputId": "d8572e44-b3c8-43c4-9dae-1984eb951c3d"
      },
      "source": [
        "features = array(boston.feature_names)\n",
        "print(\"All features:\")\n",
        "print(features)\n",
        "\n",
        "print(\"Selected features:\")\n",
        "print(features[filter])"
      ],
      "execution_count": 5,
      "outputs": [
        {
          "output_type": "stream",
          "text": [
            "All features:\n",
            "['CRIM' 'ZN' 'INDUS' 'CHAS' 'NOX' 'RM' 'AGE' 'DIS' 'RAD' 'TAX' 'PTRATIO'\n",
            " 'B' 'LSTAT']\n",
            "Selected features:\n",
            "['CRIM' 'NOX' 'RM' 'DIS' 'RAD' 'TAX' 'PTRATIO' 'LSTAT']\n"
          ],
          "name": "stdout"
        }
      ]
    },
    {
      "cell_type": "code",
      "metadata": {
        "id": "kR8lBiZia7hG"
      },
      "source": [
        ""
      ],
      "execution_count": null,
      "outputs": []
    }
  ]
}