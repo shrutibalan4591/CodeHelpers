{
  "nbformat": 4,
  "nbformat_minor": 0,
  "metadata": {
    "colab": {
      "name": "texthero.ipynb",
      "provenance": []
    },
    "kernelspec": {
      "name": "python3",
      "display_name": "Python 3"
    },
    "language_info": {
      "name": "python"
    }
  },
  "cells": [
    {
      "cell_type": "code",
      "metadata": {
        "colab": {
          "base_uri": "https://localhost:8080/"
        },
        "id": "92cSXL_IZcC3",
        "outputId": "3f83aae1-faa9-40a0-bed1-72bb424a7103"
      },
      "source": [
        "!pip install texthero"
      ],
      "execution_count": 1,
      "outputs": [
        {
          "output_type": "stream",
          "text": [
            "Collecting texthero\n",
            "  Downloading https://files.pythonhosted.org/packages/1f/5a/a9d33b799fe53011de79d140ad6d86c440a2da1ae8a7b24e851ee2f8bde8/texthero-1.0.9-py3-none-any.whl\n",
            "Requirement already satisfied: tqdm>=4.3 in /usr/local/lib/python3.7/dist-packages (from texthero) (4.41.1)\n",
            "Requirement already satisfied: plotly>=4.2.0 in /usr/local/lib/python3.7/dist-packages (from texthero) (4.4.1)\n",
            "Requirement already satisfied: gensim>=3.6.0 in /usr/local/lib/python3.7/dist-packages (from texthero) (3.6.0)\n",
            "Collecting nltk>=3.3\n",
            "\u001b[?25l  Downloading https://files.pythonhosted.org/packages/5e/37/9532ddd4b1bbb619333d5708aaad9bf1742f051a664c3c6fa6632a105fd8/nltk-3.6.2-py3-none-any.whl (1.5MB)\n",
            "\u001b[K     |████████████████████████████████| 1.5MB 11.6MB/s \n",
            "\u001b[?25hRequirement already satisfied: numpy>=1.17 in /usr/local/lib/python3.7/dist-packages (from texthero) (1.19.5)\n",
            "Requirement already satisfied: pandas>=1.0.2 in /usr/local/lib/python3.7/dist-packages (from texthero) (1.1.5)\n",
            "Requirement already satisfied: scikit-learn>=0.22 in /usr/local/lib/python3.7/dist-packages (from texthero) (0.22.2.post1)\n",
            "Requirement already satisfied: matplotlib>=3.1.0 in /usr/local/lib/python3.7/dist-packages (from texthero) (3.2.2)\n",
            "Requirement already satisfied: spacy>=2.2.2 in /usr/local/lib/python3.7/dist-packages (from texthero) (2.2.4)\n",
            "Collecting unidecode>=1.1.1\n",
            "\u001b[?25l  Downloading https://files.pythonhosted.org/packages/9e/25/723487ca2a52ebcee88a34d7d1f5a4b80b793f179ee0f62d5371938dfa01/Unidecode-1.2.0-py2.py3-none-any.whl (241kB)\n",
            "\u001b[K     |████████████████████████████████| 245kB 40.8MB/s \n",
            "\u001b[?25hRequirement already satisfied: wordcloud>=1.5.0 in /usr/local/lib/python3.7/dist-packages (from texthero) (1.5.0)\n",
            "Requirement already satisfied: retrying>=1.3.3 in /usr/local/lib/python3.7/dist-packages (from plotly>=4.2.0->texthero) (1.3.3)\n",
            "Requirement already satisfied: six in /usr/local/lib/python3.7/dist-packages (from plotly>=4.2.0->texthero) (1.15.0)\n",
            "Requirement already satisfied: scipy>=0.18.1 in /usr/local/lib/python3.7/dist-packages (from gensim>=3.6.0->texthero) (1.4.1)\n",
            "Requirement already satisfied: smart-open>=1.2.1 in /usr/local/lib/python3.7/dist-packages (from gensim>=3.6.0->texthero) (5.0.0)\n",
            "Requirement already satisfied: click in /usr/local/lib/python3.7/dist-packages (from nltk>=3.3->texthero) (7.1.2)\n",
            "Requirement already satisfied: regex in /usr/local/lib/python3.7/dist-packages (from nltk>=3.3->texthero) (2019.12.20)\n",
            "Requirement already satisfied: joblib in /usr/local/lib/python3.7/dist-packages (from nltk>=3.3->texthero) (1.0.1)\n",
            "Requirement already satisfied: python-dateutil>=2.7.3 in /usr/local/lib/python3.7/dist-packages (from pandas>=1.0.2->texthero) (2.8.1)\n",
            "Requirement already satisfied: pytz>=2017.2 in /usr/local/lib/python3.7/dist-packages (from pandas>=1.0.2->texthero) (2018.9)\n",
            "Requirement already satisfied: pyparsing!=2.0.4,!=2.1.2,!=2.1.6,>=2.0.1 in /usr/local/lib/python3.7/dist-packages (from matplotlib>=3.1.0->texthero) (2.4.7)\n",
            "Requirement already satisfied: kiwisolver>=1.0.1 in /usr/local/lib/python3.7/dist-packages (from matplotlib>=3.1.0->texthero) (1.3.1)\n",
            "Requirement already satisfied: cycler>=0.10 in /usr/local/lib/python3.7/dist-packages (from matplotlib>=3.1.0->texthero) (0.10.0)\n",
            "Requirement already satisfied: plac<1.2.0,>=0.9.6 in /usr/local/lib/python3.7/dist-packages (from spacy>=2.2.2->texthero) (1.1.3)\n",
            "Requirement already satisfied: srsly<1.1.0,>=1.0.2 in /usr/local/lib/python3.7/dist-packages (from spacy>=2.2.2->texthero) (1.0.5)\n",
            "Requirement already satisfied: murmurhash<1.1.0,>=0.28.0 in /usr/local/lib/python3.7/dist-packages (from spacy>=2.2.2->texthero) (1.0.5)\n",
            "Requirement already satisfied: preshed<3.1.0,>=3.0.2 in /usr/local/lib/python3.7/dist-packages (from spacy>=2.2.2->texthero) (3.0.5)\n",
            "Requirement already satisfied: requests<3.0.0,>=2.13.0 in /usr/local/lib/python3.7/dist-packages (from spacy>=2.2.2->texthero) (2.23.0)\n",
            "Requirement already satisfied: blis<0.5.0,>=0.4.0 in /usr/local/lib/python3.7/dist-packages (from spacy>=2.2.2->texthero) (0.4.1)\n",
            "Requirement already satisfied: thinc==7.4.0 in /usr/local/lib/python3.7/dist-packages (from spacy>=2.2.2->texthero) (7.4.0)\n",
            "Requirement already satisfied: cymem<2.1.0,>=2.0.2 in /usr/local/lib/python3.7/dist-packages (from spacy>=2.2.2->texthero) (2.0.5)\n",
            "Requirement already satisfied: setuptools in /usr/local/lib/python3.7/dist-packages (from spacy>=2.2.2->texthero) (56.0.0)\n",
            "Requirement already satisfied: wasabi<1.1.0,>=0.4.0 in /usr/local/lib/python3.7/dist-packages (from spacy>=2.2.2->texthero) (0.8.2)\n",
            "Requirement already satisfied: catalogue<1.1.0,>=0.0.7 in /usr/local/lib/python3.7/dist-packages (from spacy>=2.2.2->texthero) (1.0.0)\n",
            "Requirement already satisfied: pillow in /usr/local/lib/python3.7/dist-packages (from wordcloud>=1.5.0->texthero) (7.1.2)\n",
            "Requirement already satisfied: urllib3!=1.25.0,!=1.25.1,<1.26,>=1.21.1 in /usr/local/lib/python3.7/dist-packages (from requests<3.0.0,>=2.13.0->spacy>=2.2.2->texthero) (1.24.3)\n",
            "Requirement already satisfied: certifi>=2017.4.17 in /usr/local/lib/python3.7/dist-packages (from requests<3.0.0,>=2.13.0->spacy>=2.2.2->texthero) (2020.12.5)\n",
            "Requirement already satisfied: idna<3,>=2.5 in /usr/local/lib/python3.7/dist-packages (from requests<3.0.0,>=2.13.0->spacy>=2.2.2->texthero) (2.10)\n",
            "Requirement already satisfied: chardet<4,>=3.0.2 in /usr/local/lib/python3.7/dist-packages (from requests<3.0.0,>=2.13.0->spacy>=2.2.2->texthero) (3.0.4)\n",
            "Requirement already satisfied: importlib-metadata>=0.20; python_version < \"3.8\" in /usr/local/lib/python3.7/dist-packages (from catalogue<1.1.0,>=0.0.7->spacy>=2.2.2->texthero) (3.10.1)\n",
            "Requirement already satisfied: typing-extensions>=3.6.4; python_version < \"3.8\" in /usr/local/lib/python3.7/dist-packages (from importlib-metadata>=0.20; python_version < \"3.8\"->catalogue<1.1.0,>=0.0.7->spacy>=2.2.2->texthero) (3.7.4.3)\n",
            "Requirement already satisfied: zipp>=0.5 in /usr/local/lib/python3.7/dist-packages (from importlib-metadata>=0.20; python_version < \"3.8\"->catalogue<1.1.0,>=0.0.7->spacy>=2.2.2->texthero) (3.4.1)\n",
            "Installing collected packages: nltk, unidecode, texthero\n",
            "  Found existing installation: nltk 3.2.5\n",
            "    Uninstalling nltk-3.2.5:\n",
            "      Successfully uninstalled nltk-3.2.5\n",
            "Successfully installed nltk-3.6.2 texthero-1.0.9 unidecode-1.2.0\n"
          ],
          "name": "stdout"
        }
      ]
    },
    {
      "cell_type": "code",
      "metadata": {
        "id": "_4oV-WKbZhdf"
      },
      "source": [
        "import texthero as hero\n",
        "import pandas as pd"
      ],
      "execution_count": 6,
      "outputs": []
    },
    {
      "cell_type": "code",
      "metadata": {
        "id": "r3A0-UfQZ1v0"
      },
      "source": [
        "text=\"Hello World!      It's a lovely day. It's 2:30\"\n",
        "series=pd.Series(text)\n"
      ],
      "execution_count": 16,
      "outputs": []
    },
    {
      "cell_type": "code",
      "metadata": {
        "colab": {
          "base_uri": "https://localhost:8080/"
        },
        "id": "UEl3oFD9apMk",
        "outputId": "0b91ca70-f28f-4532-b928-d7a4a3c2ca7f"
      },
      "source": [
        "series"
      ],
      "execution_count": 12,
      "outputs": [
        {
          "output_type": "execute_result",
          "data": {
            "text/plain": [
              "0    Hello World! It's a lovely day. It's 2:30\n",
              "dtype: object"
            ]
          },
          "metadata": {
            "tags": []
          },
          "execution_count": 12
        }
      ]
    },
    {
      "cell_type": "code",
      "metadata": {
        "colab": {
          "base_uri": "https://localhost:8080/"
        },
        "id": "RAhBmCVvaUlL",
        "outputId": "44b9aac1-3cb4-40b3-b3ba-53d54da5ce0f"
      },
      "source": [
        "# Remove DIGITS\n",
        "print(hero.remove_digits(series))"
      ],
      "execution_count": 17,
      "outputs": [
        {
          "output_type": "stream",
          "text": [
            "0    Hello World!      It's a lovely day. It's  : \n",
            "dtype: object\n"
          ],
          "name": "stdout"
        }
      ]
    },
    {
      "cell_type": "code",
      "metadata": {
        "colab": {
          "base_uri": "https://localhost:8080/"
        },
        "id": "JhFd12uHadJH",
        "outputId": "6fe1d991-8415-4a0f-b585-2da5c96e2113"
      },
      "source": [
        "# Remove punctuations\n",
        "hero.remove_punctuation(series)"
      ],
      "execution_count": 18,
      "outputs": [
        {
          "output_type": "execute_result",
          "data": {
            "text/plain": [
              "0    Hello World       It s a lovely day  It s 2 30\n",
              "dtype: object"
            ]
          },
          "metadata": {
            "tags": []
          },
          "execution_count": 18
        }
      ]
    },
    {
      "cell_type": "code",
      "metadata": {
        "colab": {
          "base_uri": "https://localhost:8080/"
        },
        "id": "5zxkr0NOa4gP",
        "outputId": "456ffda9-bdf0-4627-8c61-143f2c99f3f9"
      },
      "source": [
        "# Remove Brackets\n",
        "hero.remove_brackets(series)"
      ],
      "execution_count": 19,
      "outputs": [
        {
          "output_type": "execute_result",
          "data": {
            "text/plain": [
              "0    Hello World!      It's a lovely day. It's 2:30\n",
              "dtype: object"
            ]
          },
          "metadata": {
            "tags": []
          },
          "execution_count": 19
        }
      ]
    },
    {
      "cell_type": "code",
      "metadata": {
        "colab": {
          "base_uri": "https://localhost:8080/"
        },
        "id": "lFk3Bxjga9_M",
        "outputId": "a2bf56ff-cd69-4eec-b2f1-fbf267ad5e9c"
      },
      "source": [
        "# Remove whitespaces\n",
        "hero.remove_whitespace(series)"
      ],
      "execution_count": 20,
      "outputs": [
        {
          "output_type": "execute_result",
          "data": {
            "text/plain": [
              "0    Hello World! It's a lovely day. It's 2:30\n",
              "dtype: object"
            ]
          },
          "metadata": {
            "tags": []
          },
          "execution_count": 20
        }
      ]
    },
    {
      "cell_type": "code",
      "metadata": {
        "colab": {
          "base_uri": "https://localhost:8080/"
        },
        "id": "YnkcABVObOqC",
        "outputId": "de8ccda7-75e0-43de-8bd5-0820c0f82f96"
      },
      "source": [
        "# Stopwords\n",
        "hero.remove_stopwords(series)"
      ],
      "execution_count": 21,
      "outputs": [
        {
          "output_type": "execute_result",
          "data": {
            "text/plain": [
              "0    Hello World!      It'  lovely day. It' 2:30\n",
              "dtype: object"
            ]
          },
          "metadata": {
            "tags": []
          },
          "execution_count": 21
        }
      ]
    },
    {
      "cell_type": "code",
      "metadata": {
        "colab": {
          "base_uri": "https://localhost:8080/"
        },
        "id": "NXFAFCo_bSvf",
        "outputId": "c7fe817d-9ea3-4f33-abeb-dd0b50a3a752"
      },
      "source": [
        "# All preprocessing\n",
        "hero.clean(series)"
      ],
      "execution_count": 22,
      "outputs": [
        {
          "output_type": "execute_result",
          "data": {
            "text/plain": [
              "0    hello world lovely day\n",
              "dtype: object"
            ]
          },
          "metadata": {
            "tags": []
          },
          "execution_count": 22
        }
      ]
    },
    {
      "cell_type": "markdown",
      "metadata": {
        "id": "sfINolxrbr5_"
      },
      "source": [
        "**EXAMPLE**"
      ]
    },
    {
      "cell_type": "code",
      "metadata": {
        "colab": {
          "base_uri": "https://localhost:8080/",
          "height": 204
        },
        "id": "OBFazlDHbnak",
        "outputId": "d164efe9-0ec5-4c9b-96c8-c9b8f478d6a0"
      },
      "source": [
        "df = pd.read_csv(\"https://github.com/jbesomi/texthero/raw/master/dataset/bbcsport.csv\")\n",
        "df.head()"
      ],
      "execution_count": 23,
      "outputs": [
        {
          "output_type": "execute_result",
          "data": {
            "text/html": [
              "<div>\n",
              "<style scoped>\n",
              "    .dataframe tbody tr th:only-of-type {\n",
              "        vertical-align: middle;\n",
              "    }\n",
              "\n",
              "    .dataframe tbody tr th {\n",
              "        vertical-align: top;\n",
              "    }\n",
              "\n",
              "    .dataframe thead th {\n",
              "        text-align: right;\n",
              "    }\n",
              "</style>\n",
              "<table border=\"1\" class=\"dataframe\">\n",
              "  <thead>\n",
              "    <tr style=\"text-align: right;\">\n",
              "      <th></th>\n",
              "      <th>text</th>\n",
              "      <th>topic</th>\n",
              "    </tr>\n",
              "  </thead>\n",
              "  <tbody>\n",
              "    <tr>\n",
              "      <th>0</th>\n",
              "      <td>Claxton hunting first major medal\\n\\nBritish h...</td>\n",
              "      <td>athletics</td>\n",
              "    </tr>\n",
              "    <tr>\n",
              "      <th>1</th>\n",
              "      <td>O'Sullivan could run in Worlds\\n\\nSonia O'Sull...</td>\n",
              "      <td>athletics</td>\n",
              "    </tr>\n",
              "    <tr>\n",
              "      <th>2</th>\n",
              "      <td>Greene sets sights on world title\\n\\nMaurice G...</td>\n",
              "      <td>athletics</td>\n",
              "    </tr>\n",
              "    <tr>\n",
              "      <th>3</th>\n",
              "      <td>IAAF launches fight against drugs\\n\\nThe IAAF ...</td>\n",
              "      <td>athletics</td>\n",
              "    </tr>\n",
              "    <tr>\n",
              "      <th>4</th>\n",
              "      <td>Dibaba breaks 5,000m world record\\n\\nEthiopia'...</td>\n",
              "      <td>athletics</td>\n",
              "    </tr>\n",
              "  </tbody>\n",
              "</table>\n",
              "</div>"
            ],
            "text/plain": [
              "                                                text      topic\n",
              "0  Claxton hunting first major medal\\n\\nBritish h...  athletics\n",
              "1  O'Sullivan could run in Worlds\\n\\nSonia O'Sull...  athletics\n",
              "2  Greene sets sights on world title\\n\\nMaurice G...  athletics\n",
              "3  IAAF launches fight against drugs\\n\\nThe IAAF ...  athletics\n",
              "4  Dibaba breaks 5,000m world record\\n\\nEthiopia'...  athletics"
            ]
          },
          "metadata": {
            "tags": []
          },
          "execution_count": 23
        }
      ]
    },
    {
      "cell_type": "code",
      "metadata": {
        "id": "O8r08eOCbzt2"
      },
      "source": [
        "# Pipelining\n",
        "df['pca'] = (df['text'].pipe(hero.clean)\n",
        "                       .pipe(hero.tfidf)###vectorizing\n",
        "                       .pipe(hero.pca)\n",
        "            )"
      ],
      "execution_count": 24,
      "outputs": []
    },
    {
      "cell_type": "code",
      "metadata": {
        "colab": {
          "base_uri": "https://localhost:8080/",
          "height": 204
        },
        "id": "a6gM-F_HcR4-",
        "outputId": "99f92486-e872-49b0-f226-23b006156ac4"
      },
      "source": [
        "df.head()"
      ],
      "execution_count": 26,
      "outputs": [
        {
          "output_type": "execute_result",
          "data": {
            "text/html": [
              "<div>\n",
              "<style scoped>\n",
              "    .dataframe tbody tr th:only-of-type {\n",
              "        vertical-align: middle;\n",
              "    }\n",
              "\n",
              "    .dataframe tbody tr th {\n",
              "        vertical-align: top;\n",
              "    }\n",
              "\n",
              "    .dataframe thead th {\n",
              "        text-align: right;\n",
              "    }\n",
              "</style>\n",
              "<table border=\"1\" class=\"dataframe\">\n",
              "  <thead>\n",
              "    <tr style=\"text-align: right;\">\n",
              "      <th></th>\n",
              "      <th>text</th>\n",
              "      <th>topic</th>\n",
              "      <th>pca</th>\n",
              "    </tr>\n",
              "  </thead>\n",
              "  <tbody>\n",
              "    <tr>\n",
              "      <th>0</th>\n",
              "      <td>Claxton hunting first major medal\\n\\nBritish h...</td>\n",
              "      <td>athletics</td>\n",
              "      <td>[-0.0910334074574728, 0.10350070748170347]</td>\n",
              "    </tr>\n",
              "    <tr>\n",
              "      <th>1</th>\n",
              "      <td>O'Sullivan could run in Worlds\\n\\nSonia O'Sull...</td>\n",
              "      <td>athletics</td>\n",
              "      <td>[-0.00042734981960925383, 0.024815010736742884]</td>\n",
              "    </tr>\n",
              "    <tr>\n",
              "      <th>2</th>\n",
              "      <td>Greene sets sights on world title\\n\\nMaurice G...</td>\n",
              "      <td>athletics</td>\n",
              "      <td>[-0.1176181352852282, 0.12872105684967863]</td>\n",
              "    </tr>\n",
              "    <tr>\n",
              "      <th>3</th>\n",
              "      <td>IAAF launches fight against drugs\\n\\nThe IAAF ...</td>\n",
              "      <td>athletics</td>\n",
              "      <td>[-0.09137951393185792, 0.1540154027612948]</td>\n",
              "    </tr>\n",
              "    <tr>\n",
              "      <th>4</th>\n",
              "      <td>Dibaba breaks 5,000m world record\\n\\nEthiopia'...</td>\n",
              "      <td>athletics</td>\n",
              "      <td>[-0.0912887362740055, 0.13499639793867965]</td>\n",
              "    </tr>\n",
              "  </tbody>\n",
              "</table>\n",
              "</div>"
            ],
            "text/plain": [
              "                                                text  ...                                              pca\n",
              "0  Claxton hunting first major medal\\n\\nBritish h...  ...       [-0.0910334074574728, 0.10350070748170347]\n",
              "1  O'Sullivan could run in Worlds\\n\\nSonia O'Sull...  ...  [-0.00042734981960925383, 0.024815010736742884]\n",
              "2  Greene sets sights on world title\\n\\nMaurice G...  ...       [-0.1176181352852282, 0.12872105684967863]\n",
              "3  IAAF launches fight against drugs\\n\\nThe IAAF ...  ...       [-0.09137951393185792, 0.1540154027612948]\n",
              "4  Dibaba breaks 5,000m world record\\n\\nEthiopia'...  ...       [-0.0912887362740055, 0.13499639793867965]\n",
              "\n",
              "[5 rows x 3 columns]"
            ]
          },
          "metadata": {
            "tags": []
          },
          "execution_count": 26
        }
      ]
    },
    {
      "cell_type": "code",
      "metadata": {
        "colab": {
          "base_uri": "https://localhost:8080/",
          "height": 542
        },
        "id": "eX1ity-mcCrh",
        "outputId": "ac188b99-05a4-4260-e8c9-772a5772bcf0"
      },
      "source": [
        "# Visualizing\n",
        "hero.scatterplot(df, 'pca', color='topic', title=\"PCA BBC Sport news\")"
      ],
      "execution_count": 25,
      "outputs": [
        {
          "output_type": "display_data",
          "data": {
            "text/html": [
              "<html>\n",
              "<head><meta charset=\"utf-8\" /></head>\n",
              "<body>\n",
              "    <div>\n",
              "            <script src=\"https://cdnjs.cloudflare.com/ajax/libs/mathjax/2.7.5/MathJax.js?config=TeX-AMS-MML_SVG\"></script><script type=\"text/javascript\">if (window.MathJax) {MathJax.Hub.Config({SVG: {font: \"STIX-Web\"}});}</script>\n",
              "                <script type=\"text/javascript\">window.PlotlyConfig = {MathJaxConfig: 'local'};</script>\n",
              "        <script src=\"https://cdn.plot.ly/plotly-latest.min.js\"></script>    \n",
              "            <div id=\"7b317b90-fdc8-4703-85bd-1126d82418df\" class=\"plotly-graph-div\" style=\"height:525px; width:100%;\"></div>\n",
              "            <script type=\"text/javascript\">\n",
              "                \n",
              "                    window.PLOTLYENV=window.PLOTLYENV || {};\n",
              "                    \n",
              "                if (document.getElementById(\"7b317b90-fdc8-4703-85bd-1126d82418df\")) {\n",
              "                    Plotly.newPlot(\n",
              "                        '7b317b90-fdc8-4703-85bd-1126d82418df',\n",
              "                        [{\"hoverlabel\": {\"namelength\": 0}, \"hovertemplate\": \"topic=athletics<br>x=%{x}<br>y=%{y}\", \"legendgroup\": \"topic=athletics\", \"marker\": {\"color\": \"#636efa\", \"symbol\": \"circle\"}, \"mode\": \"markers\", \"name\": \"topic=athletics\", \"showlegend\": true, \"type\": \"scatter\", \"x\": [-0.0910334074574728, -0.00042734981960925383, -0.1176181352852282, -0.09137951393185792, -0.0912887362740055, -0.11031092121506711, -0.029034408733689482, -0.04294863030035241, -0.1288916035216654, -0.157459723759168, -0.09596016591760857, -0.10783484243120703, -0.08983159704469715, -0.08056935569026168, -0.07797592248916052, -0.12049035069329314, -0.14087468507867784, -0.1052392086277537, -0.11150720281169442, -0.10783484243120703, -0.09709834044648046, -0.10711831608434773, -0.14569786812614186, -0.0748103925873558, -0.1088991015071947, -0.0858991016452677, -0.09924991195774213, -0.11471065550060287, -0.10911512141193494, -0.07440375350409058, -0.049772119311469125, -0.13230743517755794, -0.15105085745438235, -0.13178294781363326, -0.08928469828017313, -0.054773348951598716, -0.10209361369276654, -0.10215499659023497, -0.0579576223190487, -0.07956688538249539, -0.06949339620886404, -0.09043675049833803, -0.061729042152257906, -0.056434197479698474, -0.09419912349826759, -0.08177804668096268, -0.1125913249815931, -0.12703515093071982, -0.054809679209669775, -0.12119527786841788, -0.12809847220970527, -0.09392228485549156, -0.0963428981841066, -0.14346208039329267, -0.09683867605447975, -0.10452702626259135, -0.12823051500345203, -0.13841962692954343, -0.11372755439950202, -0.10014239266035642, -0.11210839806486728, -0.06179304434594227, -0.12158242808792787, -0.06478826237582296, -0.11031000239036291, -0.16010603450439057, -0.1121940547051306, -0.030189131116668665, -0.17670744582473014, -0.10724967424190639, -0.10576952577466316, -0.059316285895330854, -0.10767474402657404, -0.10513349500407028, -0.10483123241397413, -0.06420318822752273, -0.014983563117535955, -0.08106179728972134, -0.13532967731378256, -0.13045347736849044, -0.14641634306394608, -0.12785053311974034, -0.06374405671481603, -0.09392228485549156, -0.07473395568182503, -0.08021609728743358, -0.08369742943611948, -0.054809679209669775, -0.1320086076333689, -0.09231157193201525, -0.06997052445861665, -0.0775318911998077, -0.02268067715917927, -0.08823890380219322, -0.15262570497836575, -0.11291350973195671, -0.04431678735170772, -0.10709147066003431, -0.13789963494908297, -0.06301109550400331, -0.058457923546171464], \"xaxis\": \"x\", \"y\": [0.10350070748170347, 0.024815010736742884, 0.12872105684967863, 0.1540154027612948, 0.13499639793867965, 0.15755048997875454, 0.07043196197840745, 0.034649702353862465, 0.17069283029677076, 0.2402675220117505, 0.11541112050702033, 0.10868799363322691, 0.11729004314804639, 0.04880838908309174, 0.13009129672274766, 0.33156595121224897, 0.33400098149827556, 0.17692502206685617, 0.1352221817784824, 0.10868799363322691, 0.15765284377989175, 0.1310238302580569, 0.33459210936597356, 0.11129646799271574, 0.15293268246609118, 0.18006769268788006, 0.1586856961726372, 0.1362361371878564, 0.16113818325969623, 0.10386378576296315, 0.07714466706723032, 0.20824746806708266, 0.3368298756335834, 0.15899881670317492, 0.16920279107533592, 0.12915504323484162, 0.136085256165954, 0.08953961909904996, 0.12292640601634122, 0.08388158373374764, 0.09684512985352517, 0.12560373525031002, 0.12044106028748411, 0.07947994420387451, 0.1599462605058791, 0.11344343078075153, 0.25883824973553515, 0.30353264644369377, 0.1346500081178849, 0.3224957984361441, 0.34401885142946975, 0.15303708047118714, 0.11295160129339273, 0.31470621933245757, 0.13841676508200038, 0.13358654317541258, 0.15070983365180587, 0.1640837126257777, 0.0892882500447593, 0.1370021969165917, 0.15010719157849847, 0.08596202901219498, 0.15612271188770874, 0.10144374283147406, 0.13174532386071294, 0.2948559156177775, 0.1562439968908443, 0.08143468972941577, 0.24984852171282906, 0.08390603287661691, 0.11822626227031706, 0.06566064461593626, 0.08471254501422819, 0.12846103643564824, 0.1854334312414226, 0.10172141123321421, 0.05034652989024241, 0.11174821019843868, 0.32713728770727724, 0.2780968906655036, 0.3430286949085052, 0.33814692066118096, 0.10770406110011593, 0.15303708047118714, 0.10395925635109181, 0.09755738571617295, 0.12019631836520943, 0.1346500081178849, 0.3084638895541987, 0.09774683692475417, 0.13422564418477678, 0.10341616151134561, 0.013334802409015136, 0.1130062359778343, 0.22087227442837684, 0.12437595269513539, 0.05652183194777948, 0.1520204426642518, 0.1796937215861402, 0.0176926663927759, 0.1154362521067516], \"yaxis\": \"y\"}, {\"hoverlabel\": {\"namelength\": 0}, \"hovertemplate\": \"topic=cricket<br>x=%{x}<br>y=%{y}\", \"legendgroup\": \"topic=cricket\", \"marker\": {\"color\": \"#EF553B\", \"symbol\": \"circle\"}, \"mode\": \"markers\", \"name\": \"topic=cricket\", \"showlegend\": true, \"type\": \"scatter\", \"x\": [0.25346547559809934, 0.2141655190006799, 0.22597780043811475, 0.2174538091290511, 0.1198720438457346, 0.1398506408276847, 0.12118454987840452, 0.10651929948378047, 0.14945836459888015, 0.10173076283945819, 0.12012747283264742, 0.05253368785492917, 0.3133507686463265, 0.06329325162754415, 0.20991988014343782, 0.0321928582956652, 0.06165334185776648, 0.148848865394734, 0.22561616830756792, 0.17600333567945342, 0.06165334185776648, 0.18915592171061232, 0.1394845395723381, 0.16196911370375897, 0.07273311159350045, 0.21482285063349021, 0.23009621157952057, 0.21147654517525363, 0.13965886933101138, 0.10524477576984236, 0.25215865655508196, 0.16196911370375897, 0.07273311159350045, 0.19223219382145762, 0.09285164927056315, 0.11191060606340249, 0.08184903535965937, 0.16461839260279398, 0.1110212797692334, 0.18273783987015038, 0.1295132040279855, 0.24584227891996702, 0.25080679670013034, 0.21434103468559026, 0.2628085058328257, 0.16634561812040552, 0.061346567449710517, 0.19765730913421065, 0.13313598864476126, 0.18825708578203812, 0.03102856201537258, 0.26570574783773093, 0.2662173085951873, 0.23024919123307494, 0.12796114614855958, 0.22407579276647596, 0.11939377954046801, 0.05627071504180938, 0.20618482019877485, 0.16735800036136314, 0.16723388115763668, 0.22977292349551798, 0.29790449369055433, 0.2087701911808191, 0.1574009214190844, 0.12860495519348328, 0.19264843148650324, 0.3710594041107839, 0.13078017510344395, 0.2574847427290987, 0.3417760188291806, 0.15535584979183606, 0.30498322193706834, 0.24931764418041916, 0.35133979105736507, 0.19598232109416774, 0.16878898214738472, 0.0619332021851155, 0.18961771125939217, 0.24688005241857144, 0.1739364828970514, 0.27553328587250514, 0.32692447571528993, 0.32742448973674276, 0.10476803689306699, 0.2664248147177863, 0.27976020181442035, 0.2830505818065381, 0.2770018043638568, 0.13879782780982441, -0.0261868044155103, 0.08982483508159866, 0.20737165814497147, 0.031111419926122885, 0.14530426140390812, 0.1769658436364872, 0.11105878925340917, 0.17787839398457472, 0.1003227416750693, 0.16847828243208954, 0.08756328243880418, 0.017360042965934287, 0.08969908022536112, 0.0936850959408603, 0.06736541084664818, 0.04712507083232413, 0.20533700579158226, 0.03894466365325794, 0.2861598000526582, 0.2041262360228554, 0.11367384903811291, -0.03352527657169557, 0.1662610065951429, 0.1296919949563356, 0.10107754500309533, 0.028398371213351283, 0.20864987350685849, 0.11366201111688422, 0.23117714213945517, 0.10366490616654589, 0.13486081420732907, 0.08429056834678732, 0.11016224373514068, 0.11960557823394638], \"xaxis\": \"x\", \"y\": [0.11895438727309099, 0.057159643384346745, 0.09686477488975986, 0.17773493646104177, 0.009021380586266607, 0.02851077219678129, 0.10690722349465206, 0.07322130254927527, 0.1465696713516229, 0.059370228793225496, 0.10363526405804549, -0.006120716099819129, 0.07152677962088666, 0.028370405824303196, 0.07526556212693919, 0.001911647889784028, 0.06382623014091354, 0.04708962163485244, 0.06450340335270648, 0.031839980003282205, 0.06382623014091354, 0.17129201544592867, 0.1102453314176274, 0.1402041527187695, 0.11241295978536994, 0.1733791606370231, 0.09083175634169198, 0.13322268438059123, 0.10996878049704188, 0.03182337864000269, 0.07429523426057975, 0.1402041527187695, 0.11241295978536994, 0.1763087388315503, 0.07629413755961081, 0.04340250565814123, 0.09425122819820654, 0.09455787446426527, 0.06099877764113932, 0.04130151622836655, 0.1226297020039597, 0.030959192922716504, 0.05998721692157061, 0.16261330580998493, 0.17555680393071568, 0.09052856845395281, 0.07775711620659698, 0.03514290299997478, 0.06967585624295632, 0.05031087182671257, 0.00829685170557346, 0.11447545329929683, 0.11555304041938916, 0.15641287320646555, 0.11072799237463786, 0.11077260522862843, 0.1019073060040547, 0.08044774445517835, 0.11247814719039896, 0.16198393295929903, 0.16148117846830104, 0.16574770128497607, 0.01746690223177601, 0.054547041471075454, 0.1548202858607292, 0.07707907838872749, 0.02708569585107515, 0.06911504075476932, 0.02852100014238487, 0.206441177296179, 0.0165535049314201, 0.09794039117461649, 0.07112639805473957, 0.20316726269110888, 0.0668689892828881, -0.000143549354831269, 0.13877021662229944, 0.059473293834548795, 0.0388885706248659, 0.06030145693002937, 0.129073491906381, 0.1787585222771457, 0.06348263182480227, 0.06611883812297399, 0.09651934523400038, 0.21435418422955155, 0.20452086409182196, 0.2061171779619475, 0.018911464637026327, 0.11334597913453776, 0.06438265134571683, 0.05058811014813946, 0.06031281695197867, 0.070083561381231, 0.015889031141554825, 0.02891624805631707, -0.01921129070945836, 0.12820500630601578, 0.05389065411402001, 0.13671148341319886, 0.07632032647656327, 0.06490617941307204, 0.06616662044195706, 0.12304161299626463, 0.06442389827876971, 0.057180760114934635, 0.031467914516847835, 0.012007417623886178, 0.022301708333657393, 0.12207435525298313, 0.1073679843634359, 0.06280224947931597, 0.11712389473452196, 0.12296915652915687, 0.07421942094575955, -0.004372374040925439, 0.027628719182515884, 0.04954105899345715, 0.021593825258985077, 0.07452454032766799, 0.1032309717888923, -0.002221466768157976, -0.04190487295786312, 0.08207635555841235], \"yaxis\": \"y\"}, {\"hoverlabel\": {\"namelength\": 0}, \"hovertemplate\": \"topic=football<br>x=%{x}<br>y=%{y}\", \"legendgroup\": \"topic=football\", \"marker\": {\"color\": \"#00cc96\", \"symbol\": \"circle\"}, \"mode\": \"markers\", \"name\": \"topic=football\", \"showlegend\": true, \"type\": \"scatter\", \"x\": [-0.04693796836296331, -0.11353466373482417, -0.08361983265946016, -0.09686419031181234, 0.07299219288730494, -0.033749863028393584, -0.07624471314598365, -0.19872163998610265, -0.10018415604714295, -0.12676817454415784, -0.006153495873498121, -0.01645352272151939, -0.011343453652614256, -0.001988906034961196, -0.005090913552914631, -0.05493570626189206, -0.1231799723029151, -0.1712630484847893, -0.004589937645989631, -0.04141237760264149, -0.037983604068237684, -0.04713233611057909, -0.051723459099910926, -0.1382646086097682, -0.024013354102281316, -0.011097961279827212, -0.17138503037515218, -0.10729945480125352, 0.004996547228568229, -0.0675259883700294, -0.13751930105826746, -0.06456555132669815, -0.017076630038970766, 0.01646171379101173, 0.006877838774812074, -0.05993917938763404, -0.04317800841952234, 0.0030054992781530935, 0.014954279670584679, 0.021748213202058476, -0.031333327772822564, -0.05996752190599478, -0.07745857361924438, -0.06601942886194197, -0.06374972943139937, -0.10990417247430967, -0.14863010361078213, -0.04873114280265759, -0.0564562411071037, -0.08700283964121543, -0.024302990992578762, -0.026961159786586187, -0.040290249357330075, -0.05398839125686895, -0.047615922690528036, -0.047536057812934795, -0.05526396408807859, -0.10669440323046996, -0.06068994702332609, -0.12696801345021433, -0.08863073885167325, -0.07398945441957838, -0.11317649562804262, -0.09670110798832389, -0.18487033332884747, -0.05514240297429727, -0.08302493721579393, -0.0501082369004303, -0.07082672561759495, -0.059420205705228615, -0.08766403391695392, -0.06604180568147529, -0.10992695767831799, -0.13244907330500572, -0.20213178810532934, -0.0861438419216092, -0.03330894813116556, -0.07567565310170334, -0.008577987035724662, -0.12724104427089802, -0.07637587136042479, -0.07533083539566528, -0.1826282378276178, -0.08679657229393382, -0.05185576548560688, -0.07303847545653712, -0.13038451076770527, -0.13038451076770527, -0.14939669125168964, -0.11770144644423648, -0.03602354223528498, -0.07997240004148945, -0.07815206800358421, -0.1067363623217575, -0.07578816450762997, 0.022099510544835593, -0.038379455105850765, -0.09004554358422465, -0.10606116771605831, -0.05027585071567477, -0.076100293182145, -0.11807847715158967, -0.0996703679683888, -0.11965350115816137, -0.14080511295172768, -0.0687115632982088, -0.1277531689649986, -0.05118982298019442, -0.07087253629870285, -0.049269066568410756, -0.05952611585844981, -0.11690293233435599, -0.045408133770020884, -0.05454022868265244, -0.1629960052030937, -0.04033720036560362, -0.11230352158844932, -0.03188475644990749, -0.025506887895147858, -5.828509253423601e-05, -0.014149576295910946, -0.0324141090217761, -0.02195233957727318, -0.17501055299371399, 0.017014101305148344, -0.06174974740323496, -0.05157180514995193, -0.04641606152217157, -0.0949463499707904, -0.020879343309257132, 0.005091996877967202, -0.0389119795862617, -0.11319734284489838, -0.11356942594882516, -0.06052436930678519, -0.05456748359961744, -0.1323321073290215, -0.032564000396904436, -0.05763552423728885, -0.06948488822707266, -0.13108281884309658, -0.10572873687925784, -0.11638140994684164, -0.09561228886211938, -0.13097245162633925, -0.01799777903161131, -0.06382361138166842, -0.10089264234806873, -0.19362482463190836, -0.06323215865668984, -0.052884701114533916, -0.11603778684540982, -0.05113994093305295, -0.09784411696986317, -0.0720391775723695, -0.056927815562604255, -0.07891138242850392, -0.1464796954946654, -0.04455068641092105, -0.11370228875677706, -0.1464796954946654, -0.06711239573271564, -0.06844176570134329, -0.06844176570134329, -0.09295802638739693, -0.06939422790226374, -0.06028583533765206, -0.051755188672767, -0.03620281837750872, -0.060206060347994764, -0.08722798793690878, -0.1334183079153253, -0.07245344891895464, -0.04070866788229386, -0.04011096431344389, -0.06034092516420562, -0.0717959814505395, -0.1565921637475236, -0.07459425058165642, -0.1699066774206115, -0.09027290397023394, -0.05519696491113955, -0.0401353531554475, -0.06174484563035508, -0.08169608428230087, -0.1283491662261476, -0.08676403984871137, -0.09580245091828052, -0.07987986338534954, -0.16108823909484984, -0.1568474053867819, -0.11927065166976822, -0.07905029650289573, -0.07267918978252866, -0.05906138137636923, 0.005132224402775763, -0.036878900048661956, -0.10096937643956928, -0.07665055470786279, -0.0676273156462397, -0.05361777257717537, -0.1956941389518564, -0.055157027584400206, -0.065384709285485, -0.07694121640417875, -0.04275378968431701, -0.2000858420581796, -0.052000431439780434, -0.1445496401253186, -0.08361983265946016, -0.06641955082677725, -0.07782751549506425, -0.03541670597492835, -0.047437851789699725, -0.12165481776809653, -0.07012838864363398, -0.03018864812435757, -0.05997313389880715, -0.022914593261950594, 0.002511078290831771, -0.1337858369253223, -0.0057142947506456515, -0.10057161920981994, -0.032611617949180924, -0.042279424955926, -0.09715409995857666, -0.03236731771932285, -0.08206812258303915, -0.181405620238378, -0.1258682585477428, -0.060245427114942844, -0.0868605100804518, -0.09168894529845414, -0.060302156934562916, -0.04873892767933288, -0.02460408893668187, -0.08932821879886015, -0.06687590772261597, -0.18560991810196262, -0.11395474769810279, -0.12261239420043699, -0.06406722790614057, -0.17254710190303285, -0.08051478554038595, -0.13001703852457944, -0.07571690321589544, -0.02541645762791813, -0.04542947818920774, -0.0580175731327845, -0.1491813029563633, -0.07931820975322382, -0.12636392100970004, -0.07905893021199963, -0.040896462692899, -0.03994078647119091, -0.05490190128324658, -0.1014283414776701, -0.009454335512709517, -0.0517558245133237, -0.0830599949213659, -0.02171284133709799, -0.0983440146458483, -0.06482880824968638, -0.035674217780366814, -0.0028753310534906464], \"xaxis\": \"x\", \"y\": [-0.08555161411714954, -0.1159036811355892, -0.06945932240045215, -0.06794067135292393, -0.06200540288736211, -0.009021262925047388, -0.09486960104521686, -0.21844199308144857, -0.12018963644112794, -0.16680436236996288, -0.05615612258907262, -0.04588551133556117, -0.042915357840403304, -0.02710637916423909, -0.018021981721480243, -0.05842997362529998, -0.19962754655275175, -0.17070394224713809, -0.04523068931521565, -0.04343583064366488, -0.10395401728601038, -0.03347201427841849, -0.015632705832861672, -0.12726130006453257, -0.12837678935398308, -0.07950993590584161, -0.1704289216526541, -0.12203179055077634, -0.07086467703661846, -0.03289060099263605, -0.14202867981127879, -0.07842155140855529, -0.01452101053281811, -0.04265166234975819, -0.049385190465102896, -0.009045333877806165, 0.014858751861843458, -0.02030131063499208, -0.11210575082784062, -0.010009941562513716, -0.020420919656227596, 0.03671704218353974, -0.0741712216843359, -0.05799079585113365, -0.08286340737739899, -0.10123051606270193, -0.1736327588808935, -0.142589404692444, -0.03383374493322823, -0.08119110128084432, -0.051432987479353154, -0.01882571716466684, -0.031514286251204025, -0.007472825666721533, 0.006367917478579995, -0.08564634181234755, -0.11046106111534551, -0.11050661319657873, -0.013389646848217045, -0.08867300106152985, -0.11319769543107522, -0.07774721062565879, -0.11330533565682464, -0.06939426961971998, -0.2414923844011018, -0.11233827051173073, -0.05728783978152207, -0.05838493287341068, -0.07247056008949913, -0.028312310855805635, -0.07398892702589475, -0.034889774678531216, -0.09082009665085362, -0.08554605765845058, -0.1830049922365668, -0.005631116945851186, -0.0051490511816084175, -0.06798028826674529, 0.013548495341720366, -0.08180204986078879, -0.019072510530027287, -0.07475625134217301, -0.16569408389214943, -0.06465128845976581, -0.06265312936754174, -0.10429939492646695, -0.14169769301051865, -0.14169769301051865, -0.15610604395649771, -0.12309140665053737, -0.03906017611088643, -0.061362113729094316, -0.04758179191695048, -0.080016667273625, -0.0601080193603282, 0.037956955994181814, -0.006039450760400995, -0.09603548740458508, -0.05612561744094978, -0.01304117350856964, -0.06934316205414644, -0.10468750379111706, -0.06995332718949969, -0.09691531246263967, -0.0010194518253916738, -0.08882840253943096, -0.05047732476766798, -0.020942366502936537, -0.01686721613728611, 0.004571167259623489, -0.06766045267102895, -0.08665453753535408, -0.02550169614044298, -0.0761559240306199, -0.17239008094850175, -0.005509517044056373, -0.06911622881408756, -0.04692325354417426, -0.007865025684751498, 0.010121277783216323, 0.0017558427230765033, -0.07620349755369149, -0.0812092868548998, -0.20000611966867932, -0.0064580179830442015, -0.029939619207447508, -0.041736273518502794, -0.06720904850809926, -0.13565654904663113, 0.011073314636905165, 0.00025978606597720934, -0.05580773914443234, -0.1221602148711582, -0.14461902844099747, -0.06893976284405212, -0.026424756657874134, -0.14887030044553665, -0.055817773963995274, -0.033937001494471715, -0.004229335759893942, -0.1494879128327655, -0.15944610603768347, -0.09443132615481267, -0.11965682517238167, -0.13239507211415494, -0.053368184915576315, 0.04310990902403508, -0.0886983595476422, -0.19789897032817944, -0.05051887204996833, -0.03725170049244749, -0.13643794882663846, -0.06682329066821113, -0.1106434171516304, -0.03538002501857901, -0.06456294919559155, -0.03985762057248517, -0.16698718614851008, 0.0017209338479119841, -0.09191924359518427, -0.16698718614851008, -0.054885609903318776, -0.013950705574211884, -0.013950705574211884, -0.09705496796078797, -0.06497192165774501, -0.0325639622567457, -0.0012606273199431753, -0.051812978178405744, -0.033522839771455995, -0.029019539986675703, -0.10637982171640249, -0.09210894427558732, -0.08649472085391839, -0.06602828178005338, -0.07173480959812742, 0.018270389329108044, -0.0944903002921685, -0.04770733159107582, -0.19776440019773056, -0.0668009172450168, -0.03073123139498046, -0.02040320133856616, -0.0901274318001446, -0.0636926053265613, -0.13701512439643423, -0.128934191049936, -0.11125737847717658, -0.11812936322530303, -0.13183508140774142, -0.19412004751732168, -0.16857146208058468, -0.09054941428341276, -0.09283919748341295, -0.03398643518944894, -0.03760227167054958, 0.005396021337044951, -0.14875826907565048, -0.17744285251666064, -0.14978656558241046, -0.062040668270658156, -0.2485606647687761, -0.07292779954538091, -0.06561155812423292, -0.11653998238652605, -0.026850504863052467, -0.21833370760296014, -0.04290325827346356, -0.17258166485414436, -0.06945932240045215, -0.126266496026618, -0.12781659376774543, -0.02941992901162921, -0.05550894817661051, -0.13692043981885477, -0.09118598483779661, -0.010841097146027233, -0.06165446228418032, -0.010189294946695744, 0.009015269174002163, -0.18643647147194672, -0.05296973869779066, -0.0631936212890887, -0.00030202727735410443, -0.008394870149720566, -0.11847608534148511, -0.012613481512364095, -0.05819820928067519, -0.18827550947998628, -0.10173485008006873, 0.051911430503488995, -0.05735480722477523, -0.0647684594738435, -0.038478105815243274, -0.015044260966683707, -0.08389145971940147, -0.09255951304379732, -0.08448007076768028, -0.16890586708595934, -0.13179082640209294, -0.1081343013473483, -0.024186627592564392, -0.20358778909939382, -0.03530528773176717, -0.11505164483616173, -0.06451241003152829, -0.07016486382093183, 0.023523044644298205, -0.0969636023930418, -0.15262563010091695, -0.09429444185136805, -0.12256793066386108, -0.09497940674053999, -0.05342110679967086, -0.010804085457569751, 0.023148626134902893, -0.00674078339869114, 0.030968368773179156, -0.04340597720309844, -0.1107407631336345, -0.022939906613122642, -0.10870651695488594, -0.028341941361399017, -0.022373898225799757, -0.021074356321525337], \"yaxis\": \"y\"}, {\"hoverlabel\": {\"namelength\": 0}, \"hovertemplate\": \"topic=rugby<br>x=%{x}<br>y=%{y}\", \"legendgroup\": \"topic=rugby\", \"marker\": {\"color\": \"#ab63fa\", \"symbol\": \"circle\"}, \"mode\": \"markers\", \"name\": \"topic=rugby\", \"showlegend\": true, \"type\": \"scatter\", \"x\": [0.13153165504190253, 0.19135602901726625, 0.1372590013557955, 0.05723886106869119, 0.06656462431895536, 0.15147148882204778, 0.13503867033821962, 0.12861577633736632, 0.10028035015461848, 0.04001261497093486, 0.009744726076659455, 0.06053745897217449, 0.08266241695735667, 0.030420350245095276, 0.03812983508308973, 0.15788629464588216, 0.19678812941206583, 0.08498670988480557, 0.15887208558733423, 0.1523470294483377, 0.16228908808296527, 0.09138566863935665, 0.062430269841033816, 0.09354759177263275, 0.1488309459144248, 0.0272467141376753, 0.13536242495945108, 0.18689897342213962, 0.22274061335591686, 0.10959547828549566, 0.1560261992862843, 0.21114235649433252, 0.06191929603711614, -0.008909553627037346, 0.040438719874861404, -0.007440248137383271, 0.21170497478989095, 0.03482433386852538, 0.18240205148955455, 0.27892918679475076, 0.025336807278322642, 0.036533931566436716, 0.138961515452613, 0.04423918056904932, 0.12279860393682662, 0.12147808739611521, 0.13726515971245076, 0.2397542382996216, 0.10414825696868314, 0.13263759466104585, 0.1832569954807911, 0.09505101798321766, 0.12654772074257128, 0.11120392709371388, 0.13416397131239247, 0.26890474641379314, 0.12773254004063828, 0.07002043644247971, 0.20733616828647478, 0.10941933874701212, 0.10414825696868314, 0.14110754225513034, 0.06401632295377659, 0.10092373004556038, 0.10402666650258284, 0.15165252026367979, 0.0471139857928507, 0.21200894056233965, 0.1030089889829281, 0.04507010077817337, 0.03881564756781968, 0.11935731073627101, 0.14635184874537135, 0.06719581100775367, 0.08643859356392647, 0.05878890020474426, 0.057320483731781516, -0.024859464363443346, 0.05332553710288883, 0.004137936752225738, 0.09019168271172488, -0.002108634247233529, 0.025051779033983423, 0.057767842537421024, 0.17300053762825346, 0.09535292724112779, 0.11912376524579298, 0.17189994285541838, -0.01652819374072373, 0.2045590556769901, 0.021190734261826223, 0.11885983904026855, 0.05129651656567616, 0.1763360910424235, 0.10930652052603677, 0.0578715151553472, 0.06594945523308149, 0.09402271141818559, 0.06375779807765196, 0.16281290905383886, 0.015127639051076643, 0.13228227928798847, 0.04470023819800912, 0.13195218648015428, 0.1298901992795335, 0.11260281048582345, 0.03561849233459765, 0.04508858946726663, 0.08229976557489206, 0.022396987049027782, 0.0020949592773416483, -0.05510575141522674, -0.053923358229140975, 0.028893227953096904, 0.027163634466313143, -0.040697714112040685, 0.18427825141329704, 0.06386463119932109, 0.05234404810820641, -0.002171133697432162, 0.13025795383032196, 0.13853056517510773, 0.09657756356847565, -0.03125817085145882, -0.021904094408963667, -0.04800704761493396, 0.11037557480134967, 0.11742955992332998, 0.1439213395681737, 0.1806232955816295, 0.15123260146679104, 0.26273194260863236, 0.15153180655232165, 0.15175455500032745, 0.09505101798321766, 0.11913515707271659, 0.11909525597053731, 0.03632598367822721, 0.12714160448079748, 0.06975679164189487, 0.22532455782349353, 0.14058477060966446, 0.2234312656192231, 0.12436643324957514, 0.1372066168246658, 0.080348039829106, 0.04604656989737859], \"xaxis\": \"x\", \"y\": [-0.18017154863957105, -0.20510095437867285, -0.16518641344039722, -0.04922450471772048, -0.10291133651993173, -0.20086292642597744, -0.1767377488450523, -0.14545114993995814, -0.1292409286665362, -0.04249798710097249, -0.05582695101713426, -0.034220205224597296, -0.10253365831922526, -0.08592461512579357, -0.03999115487660502, -0.1596327244762281, -0.1613420697074802, -0.10695495194964406, -0.11332168495701332, -0.15786769116428284, -0.14664857378367963, -0.09947771840314881, -0.04831083907042645, -0.0804918098917834, -0.15825474994009528, -0.09777389972045453, -0.09744490216593994, -0.12538873330085953, -0.117586988713382, -0.14789474812407072, -0.11095074445695641, -0.16122628245885393, -0.12500304191045503, -0.012692338191372212, -0.06468233216936999, 0.01932244266823501, -0.12420349630320013, -0.05435949847447413, -0.08270686398423713, -0.21971694556756685, 0.006511121030449385, 0.007895552183950447, -0.17833021740718558, -0.11660322505261496, -0.07812622968545505, -0.07706977361964834, -0.14942867888312492, -0.14017858279419257, -0.08419534182873302, -0.08994978337711373, -0.15537339835346933, -0.08962902119007782, -0.15001471800758845, -0.09161114125397728, -0.16703294097564522, -0.09812837138846794, -0.12888703143043548, -0.06796737351503158, -0.18694508661456893, -0.10793832030802515, -0.08419534182873302, -0.11697448429322917, -0.10152422517299634, -0.1174165352543329, -0.12693900412058845, -0.15469008395506015, -0.02477376272366694, -0.1604171038754766, -0.1143926665748376, -0.018480772699308243, -0.0873710842011997, -0.0997970378171855, -0.14497092072328002, -0.11413197869323043, -0.14195495354337972, -0.09312990485610753, -0.1265235379411543, -0.02660022054115326, -0.04235775818888965, -0.025961814380746406, -0.10711991024877296, -0.05019670784813228, -0.027352231451748543, -0.05731580391560939, -0.0935751320065929, -0.017918711105008867, -0.0825052443244631, -0.06817401568595224, -0.025066916276726768, -0.15936943130966452, -0.008219659788971212, -0.07655005425041957, -0.09768003514938166, -0.09722854840106415, -0.055775368307731346, -0.021640122025483884, -0.06757930664938212, -0.03851890244927841, -0.018838461239710676, -0.1409974928913185, -0.016203068629714795, -0.09201435308473127, 0.008210349729139692, -0.09165910164081263, -0.08055853287287586, -0.0633137464053064, -0.08651442548802438, -0.09441004210047468, -0.004295035108094629, -0.08104349133381349, -0.07235044408399828, -0.030667780289046737, -0.031702110432589296, -0.025838977069290482, -0.019667372549623433, -0.05785935448341598, -0.18818705584139223, -0.013366283152602779, -0.08371178760765156, -0.06528775150021872, -0.11681373620763157, -0.12159615893011329, -0.10947803342889412, -0.05499990186744298, -0.0785756980791007, -0.04060663273402167, -0.04789802098175471, -0.11138935853826397, 0.004460736557544862, -0.15759631701122243, -0.18838382396546427, -0.21705996228913021, -0.2006238002237607, -0.07618295483455848, -0.08962902119007782, -0.1425079197813351, -0.04882506335292001, -0.061275872660052695, -0.13336260188357313, -0.10616018078090263, -0.15924717198037425, -0.16174110939021452, -0.11749346495065674, -0.08310487867187258, -0.07419932765808801, -0.04389163758418366, -0.04333848065681996], \"yaxis\": \"y\"}, {\"hoverlabel\": {\"namelength\": 0}, \"hovertemplate\": \"topic=tennis<br>x=%{x}<br>y=%{y}\", \"legendgroup\": \"topic=tennis\", \"marker\": {\"color\": \"#FFA15A\", \"symbol\": \"circle\"}, \"mode\": \"markers\", \"name\": \"topic=tennis\", \"showlegend\": true, \"type\": \"scatter\", \"x\": [-0.0426556484199631, -0.0549315240492289, -0.055711840480231964, -0.06917134903587319, -0.03803445868980109, -0.05436873020715635, -0.05971801914401481, -0.048837586056310285, -0.055646406141717675, -0.0514616075997746, -0.02741113480031259, -0.07355682423968982, -0.03815401961749834, -0.040095747931939735, -0.0467930654594585, -0.0514616075997746, -0.06410140398808821, -0.07355682423968982, -0.04069491672511865, -0.04659399030656151, -0.06796750790921094, -0.060409798042543573, -0.05569239491944628, -0.07344679971967866, -0.04488631331922016, -0.04190103528947716, -0.02252554563335488, -0.06060203990881142, -0.05789669054911861, -0.06103947976379274, -0.041417474125032466, -0.056232574306887134, -0.06231198900781735, -0.048228853658147296, -0.033518955935438015, -0.02594700184563082, -0.06884847268547542, -0.0757922864796566, -0.05146629206932666, -0.05583356694342503, -0.05144144328254779, -0.043282273626310555, -0.06589821973605352, -0.06652412355798651, -0.04820510898062821, -0.07028618315555134, -0.054666639963150965, -0.056609752078175805, -0.07564988084557868, -0.07564988084557868, -0.058270587379656506, -0.05611598568498901, -0.048340976104391004, -0.031960117694296554, -0.04933291808340144, -0.08160246805940186, -0.06954524453983044, -0.04106056456821238, -0.03998867577283857, -0.06207258623615821, -0.06268931620243316, -0.0386619089982793, -0.04619598789874265, -0.09999785384019012, -0.05393094285132799, -0.06486091884136516, -0.054603170529481944, -0.025454161722130147, -0.08058689105832566, -0.08067431846721637, -0.05111954397467811, -0.07717026391564953, -0.0578733990516085, -0.04821190025220958, -0.10313684495585927, -0.03592164303154212, -0.0296756258388683, -0.04722401666978585, -0.07992378029668427, -0.07199506121996893, -0.04187520034720103, -0.07212834692791516, -0.06636077258955723, -0.03236212260160077, -0.05100242989657433, -0.027602173076125246, -0.06089282651055711, -0.02080961370795873, -0.06209653188475399, -0.03782984719354112, -0.07885615225355959, 0.017141352263184268, -0.03179507696327472, -0.0632930841585595, -0.0415159987457475, -0.06660110181026604, -0.048154849087211585, -0.04977685448997586, -0.04875343791695561, -0.029131645477116417], \"xaxis\": \"x\", \"y\": [0.07804552631822842, 0.10541470033544317, 0.04831633837297368, 0.06958479865166836, 0.08935384277488544, 0.08607775360356662, 0.07908045768547883, 0.09599929968780428, 0.07988481507969498, 0.1159973123170078, 0.0331205834002778, 0.055051323169981896, 0.08736956948289751, 0.09611031240236842, 0.08778357420088342, 0.1159973123170078, 0.05148969673330104, 0.055051323169981896, 0.08932192164426438, 0.10606354531862279, 0.1425336531043793, 0.05984710469756723, 0.0655292621761908, 0.1175082072064366, 0.031210510690851078, 0.09663898100860085, 0.07493229631212418, 0.11588384793863965, 0.03890267031458474, 0.1075989436615453, 0.059468538567192385, 0.0714950643274941, 0.09263989334968727, 0.07227531998160033, 0.036004776270260316, 0.04197079302274014, 0.135559490022572, 0.11948798272554977, 0.10179270832135606, 0.04866443872361323, 0.06799650776916755, 0.06683223991737462, 0.0969228780983913, 0.011690284937419007, 0.10569542075440401, 0.059179003359705065, 0.13901835836612061, 0.07912552680855824, 0.022433163586323444, 0.022433163586323444, 0.1455410468836919, 0.03365309661579063, 0.05289668739698406, 0.04292669071352064, 0.08005750474524054, 0.1513051824411492, 0.11058930728437232, 0.07566205352040187, 0.07348481163653675, 0.0971527233182745, 0.06320671328851872, 0.012671318546728115, 0.09356126007244366, 0.1491045446113925, 0.11396767135104507, 0.08129800170745857, 0.07486380398380327, 0.03656818108567302, 0.04501410791214801, 0.045201273687434665, 0.054364921863605725, 0.11024546710253749, 0.02727650363863067, 0.08266603463592836, 0.13466809664656715, 0.04498610551203121, 0.03829923995824057, 0.07830975235150331, 0.03610764088502657, 0.047264563710931226, 0.06916808687067676, 0.06413533769658569, 0.04605460966122256, 0.0285903495678739, 0.06754730195480131, 0.10605574365959054, 0.0706642681780564, 0.06839626396188997, 0.07759422101527023, 0.07592109427557808, 0.07612478361155156, 0.046898433742484674, 0.0672442023043477, 0.07952366948644408, 0.105166639361892, 0.1087215867763099, 0.05293025747585413, 0.06031534822724099, 0.013774293057947636, 0.07149433617535751], \"yaxis\": \"y\"}],\n",
              "                        {\"legend\": {\"tracegroupgap\": 0}, \"template\": {\"data\": {\"bar\": [{\"error_x\": {\"color\": \"#2a3f5f\"}, \"error_y\": {\"color\": \"#2a3f5f\"}, \"marker\": {\"line\": {\"color\": \"#E5ECF6\", \"width\": 0.5}}, \"type\": \"bar\"}], \"barpolar\": [{\"marker\": {\"line\": {\"color\": \"#E5ECF6\", \"width\": 0.5}}, \"type\": \"barpolar\"}], \"carpet\": [{\"aaxis\": {\"endlinecolor\": \"#2a3f5f\", \"gridcolor\": \"white\", \"linecolor\": \"white\", \"minorgridcolor\": \"white\", \"startlinecolor\": \"#2a3f5f\"}, \"baxis\": {\"endlinecolor\": \"#2a3f5f\", \"gridcolor\": \"white\", \"linecolor\": \"white\", \"minorgridcolor\": \"white\", \"startlinecolor\": \"#2a3f5f\"}, \"type\": \"carpet\"}], \"choropleth\": [{\"colorbar\": {\"outlinewidth\": 0, \"ticks\": \"\"}, \"type\": \"choropleth\"}], \"contour\": [{\"colorbar\": {\"outlinewidth\": 0, \"ticks\": \"\"}, \"colorscale\": [[0.0, \"#0d0887\"], [0.1111111111111111, \"#46039f\"], [0.2222222222222222, \"#7201a8\"], [0.3333333333333333, \"#9c179e\"], [0.4444444444444444, \"#bd3786\"], [0.5555555555555556, \"#d8576b\"], [0.6666666666666666, \"#ed7953\"], [0.7777777777777778, \"#fb9f3a\"], [0.8888888888888888, \"#fdca26\"], [1.0, \"#f0f921\"]], \"type\": \"contour\"}], \"contourcarpet\": [{\"colorbar\": {\"outlinewidth\": 0, \"ticks\": \"\"}, \"type\": \"contourcarpet\"}], \"heatmap\": [{\"colorbar\": {\"outlinewidth\": 0, \"ticks\": \"\"}, \"colorscale\": [[0.0, \"#0d0887\"], [0.1111111111111111, \"#46039f\"], [0.2222222222222222, \"#7201a8\"], [0.3333333333333333, \"#9c179e\"], [0.4444444444444444, \"#bd3786\"], [0.5555555555555556, \"#d8576b\"], [0.6666666666666666, \"#ed7953\"], [0.7777777777777778, \"#fb9f3a\"], [0.8888888888888888, \"#fdca26\"], [1.0, \"#f0f921\"]], \"type\": \"heatmap\"}], \"heatmapgl\": [{\"colorbar\": {\"outlinewidth\": 0, \"ticks\": \"\"}, \"colorscale\": [[0.0, \"#0d0887\"], [0.1111111111111111, \"#46039f\"], [0.2222222222222222, \"#7201a8\"], [0.3333333333333333, \"#9c179e\"], [0.4444444444444444, \"#bd3786\"], [0.5555555555555556, \"#d8576b\"], [0.6666666666666666, \"#ed7953\"], [0.7777777777777778, \"#fb9f3a\"], [0.8888888888888888, \"#fdca26\"], [1.0, \"#f0f921\"]], \"type\": \"heatmapgl\"}], \"histogram\": [{\"marker\": {\"colorbar\": {\"outlinewidth\": 0, \"ticks\": \"\"}}, \"type\": \"histogram\"}], \"histogram2d\": [{\"colorbar\": {\"outlinewidth\": 0, \"ticks\": \"\"}, \"colorscale\": [[0.0, \"#0d0887\"], [0.1111111111111111, \"#46039f\"], [0.2222222222222222, \"#7201a8\"], [0.3333333333333333, \"#9c179e\"], [0.4444444444444444, \"#bd3786\"], [0.5555555555555556, \"#d8576b\"], [0.6666666666666666, \"#ed7953\"], [0.7777777777777778, \"#fb9f3a\"], [0.8888888888888888, \"#fdca26\"], [1.0, \"#f0f921\"]], \"type\": \"histogram2d\"}], \"histogram2dcontour\": [{\"colorbar\": {\"outlinewidth\": 0, \"ticks\": \"\"}, \"colorscale\": [[0.0, \"#0d0887\"], [0.1111111111111111, \"#46039f\"], [0.2222222222222222, \"#7201a8\"], [0.3333333333333333, \"#9c179e\"], [0.4444444444444444, \"#bd3786\"], [0.5555555555555556, \"#d8576b\"], [0.6666666666666666, \"#ed7953\"], [0.7777777777777778, \"#fb9f3a\"], [0.8888888888888888, \"#fdca26\"], [1.0, \"#f0f921\"]], \"type\": \"histogram2dcontour\"}], \"mesh3d\": [{\"colorbar\": {\"outlinewidth\": 0, \"ticks\": \"\"}, \"type\": \"mesh3d\"}], \"parcoords\": [{\"line\": {\"colorbar\": {\"outlinewidth\": 0, \"ticks\": \"\"}}, \"type\": \"parcoords\"}], \"pie\": [{\"automargin\": true, \"type\": \"pie\"}], \"scatter\": [{\"marker\": {\"colorbar\": {\"outlinewidth\": 0, \"ticks\": \"\"}}, \"type\": \"scatter\"}], \"scatter3d\": [{\"line\": {\"colorbar\": {\"outlinewidth\": 0, \"ticks\": \"\"}}, \"marker\": {\"colorbar\": {\"outlinewidth\": 0, \"ticks\": \"\"}}, \"type\": \"scatter3d\"}], \"scattercarpet\": [{\"marker\": {\"colorbar\": {\"outlinewidth\": 0, \"ticks\": \"\"}}, \"type\": \"scattercarpet\"}], \"scattergeo\": [{\"marker\": {\"colorbar\": {\"outlinewidth\": 0, \"ticks\": \"\"}}, \"type\": \"scattergeo\"}], \"scattergl\": [{\"marker\": {\"colorbar\": {\"outlinewidth\": 0, \"ticks\": \"\"}}, \"type\": \"scattergl\"}], \"scattermapbox\": [{\"marker\": {\"colorbar\": {\"outlinewidth\": 0, \"ticks\": \"\"}}, \"type\": \"scattermapbox\"}], \"scatterpolar\": [{\"marker\": {\"colorbar\": {\"outlinewidth\": 0, \"ticks\": \"\"}}, \"type\": \"scatterpolar\"}], \"scatterpolargl\": [{\"marker\": {\"colorbar\": {\"outlinewidth\": 0, \"ticks\": \"\"}}, \"type\": \"scatterpolargl\"}], \"scatterternary\": [{\"marker\": {\"colorbar\": {\"outlinewidth\": 0, \"ticks\": \"\"}}, \"type\": \"scatterternary\"}], \"surface\": [{\"colorbar\": {\"outlinewidth\": 0, \"ticks\": \"\"}, \"colorscale\": [[0.0, \"#0d0887\"], [0.1111111111111111, \"#46039f\"], [0.2222222222222222, \"#7201a8\"], [0.3333333333333333, \"#9c179e\"], [0.4444444444444444, \"#bd3786\"], [0.5555555555555556, \"#d8576b\"], [0.6666666666666666, \"#ed7953\"], [0.7777777777777778, \"#fb9f3a\"], [0.8888888888888888, \"#fdca26\"], [1.0, \"#f0f921\"]], \"type\": \"surface\"}], \"table\": [{\"cells\": {\"fill\": {\"color\": \"#EBF0F8\"}, \"line\": {\"color\": \"white\"}}, \"header\": {\"fill\": {\"color\": \"#C8D4E3\"}, \"line\": {\"color\": \"white\"}}, \"type\": \"table\"}]}, \"layout\": {\"annotationdefaults\": {\"arrowcolor\": \"#2a3f5f\", \"arrowhead\": 0, \"arrowwidth\": 1}, \"coloraxis\": {\"colorbar\": {\"outlinewidth\": 0, \"ticks\": \"\"}}, \"colorscale\": {\"diverging\": [[0, \"#8e0152\"], [0.1, \"#c51b7d\"], [0.2, \"#de77ae\"], [0.3, \"#f1b6da\"], [0.4, \"#fde0ef\"], [0.5, \"#f7f7f7\"], [0.6, \"#e6f5d0\"], [0.7, \"#b8e186\"], [0.8, \"#7fbc41\"], [0.9, \"#4d9221\"], [1, \"#276419\"]], \"sequential\": [[0.0, \"#0d0887\"], [0.1111111111111111, \"#46039f\"], [0.2222222222222222, \"#7201a8\"], [0.3333333333333333, \"#9c179e\"], [0.4444444444444444, \"#bd3786\"], [0.5555555555555556, \"#d8576b\"], [0.6666666666666666, \"#ed7953\"], [0.7777777777777778, \"#fb9f3a\"], [0.8888888888888888, \"#fdca26\"], [1.0, \"#f0f921\"]], \"sequentialminus\": [[0.0, \"#0d0887\"], [0.1111111111111111, \"#46039f\"], [0.2222222222222222, \"#7201a8\"], [0.3333333333333333, \"#9c179e\"], [0.4444444444444444, \"#bd3786\"], [0.5555555555555556, \"#d8576b\"], [0.6666666666666666, \"#ed7953\"], [0.7777777777777778, \"#fb9f3a\"], [0.8888888888888888, \"#fdca26\"], [1.0, \"#f0f921\"]]}, \"colorway\": [\"#636efa\", \"#EF553B\", \"#00cc96\", \"#ab63fa\", \"#FFA15A\", \"#19d3f3\", \"#FF6692\", \"#B6E880\", \"#FF97FF\", \"#FECB52\"], \"font\": {\"color\": \"#2a3f5f\"}, \"geo\": {\"bgcolor\": \"white\", \"lakecolor\": \"white\", \"landcolor\": \"#E5ECF6\", \"showlakes\": true, \"showland\": true, \"subunitcolor\": \"white\"}, \"hoverlabel\": {\"align\": \"left\"}, \"hovermode\": \"closest\", \"mapbox\": {\"style\": \"light\"}, \"paper_bgcolor\": \"white\", \"plot_bgcolor\": \"#E5ECF6\", \"polar\": {\"angularaxis\": {\"gridcolor\": \"white\", \"linecolor\": \"white\", \"ticks\": \"\"}, \"bgcolor\": \"#E5ECF6\", \"radialaxis\": {\"gridcolor\": \"white\", \"linecolor\": \"white\", \"ticks\": \"\"}}, \"scene\": {\"xaxis\": {\"backgroundcolor\": \"#E5ECF6\", \"gridcolor\": \"white\", \"gridwidth\": 2, \"linecolor\": \"white\", \"showbackground\": true, \"ticks\": \"\", \"zerolinecolor\": \"white\"}, \"yaxis\": {\"backgroundcolor\": \"#E5ECF6\", \"gridcolor\": \"white\", \"gridwidth\": 2, \"linecolor\": \"white\", \"showbackground\": true, \"ticks\": \"\", \"zerolinecolor\": \"white\"}, \"zaxis\": {\"backgroundcolor\": \"#E5ECF6\", \"gridcolor\": \"white\", \"gridwidth\": 2, \"linecolor\": \"white\", \"showbackground\": true, \"ticks\": \"\", \"zerolinecolor\": \"white\"}}, \"shapedefaults\": {\"line\": {\"color\": \"#2a3f5f\"}}, \"ternary\": {\"aaxis\": {\"gridcolor\": \"white\", \"linecolor\": \"white\", \"ticks\": \"\"}, \"baxis\": {\"gridcolor\": \"white\", \"linecolor\": \"white\", \"ticks\": \"\"}, \"bgcolor\": \"#E5ECF6\", \"caxis\": {\"gridcolor\": \"white\", \"linecolor\": \"white\", \"ticks\": \"\"}}, \"title\": {\"x\": 0.05}, \"xaxis\": {\"automargin\": true, \"gridcolor\": \"white\", \"linecolor\": \"white\", \"ticks\": \"\", \"title\": {\"standoff\": 15}, \"zerolinecolor\": \"white\", \"zerolinewidth\": 2}, \"yaxis\": {\"automargin\": true, \"gridcolor\": \"white\", \"linecolor\": \"white\", \"ticks\": \"\", \"title\": {\"standoff\": 15}, \"zerolinecolor\": \"white\", \"zerolinewidth\": 2}}}, \"title\": {\"text\": \"PCA BBC Sport news\"}, \"xaxis\": {\"anchor\": \"y\", \"domain\": [0.0, 1.0], \"title\": {\"text\": \"x\"}}, \"yaxis\": {\"anchor\": \"x\", \"domain\": [0.0, 1.0], \"title\": {\"text\": \"y\"}}},\n",
              "                        {\"responsive\": true}\n",
              "                    ).then(function(){\n",
              "                            \n",
              "var gd = document.getElementById('7b317b90-fdc8-4703-85bd-1126d82418df');\n",
              "var x = new MutationObserver(function (mutations, observer) {{\n",
              "        var display = window.getComputedStyle(gd).display;\n",
              "        if (!display || display === 'none') {{\n",
              "            console.log([gd, 'removed!']);\n",
              "            Plotly.purge(gd);\n",
              "            observer.disconnect();\n",
              "        }}\n",
              "}});\n",
              "\n",
              "// Listen for the removal of the full notebook cells\n",
              "var notebookContainer = gd.closest('#notebook-container');\n",
              "if (notebookContainer) {{\n",
              "    x.observe(notebookContainer, {childList: true});\n",
              "}}\n",
              "\n",
              "// Listen for the clearing of the current output cell\n",
              "var outputEl = gd.closest('.output');\n",
              "if (outputEl) {{\n",
              "    x.observe(outputEl, {childList: true});\n",
              "}}\n",
              "\n",
              "                        })\n",
              "                };\n",
              "                \n",
              "            </script>\n",
              "        </div>\n",
              "</body>\n",
              "</html>"
            ]
          },
          "metadata": {
            "tags": []
          }
        }
      ]
    },
    {
      "cell_type": "code",
      "metadata": {
        "colab": {
          "base_uri": "https://localhost:8080/",
          "height": 204
        },
        "id": "pqLlnZKxcHt2",
        "outputId": "e83cab5b-b161-4941-d28b-95f398468253"
      },
      "source": [
        "df = pd.read_csv(\"https://github.com/jbesomi/texthero/raw/master/dataset/bbcsport.csv\")\n",
        "\n",
        "df['tfidf'] = (df['text'].pipe(hero.clean)\n",
        "                         .pipe(hero.tfidf)\n",
        "              )\n",
        "\n",
        "# Kmeans\n",
        "df['kmeans_labels'] = (df['tfidf'].pipe(hero.kmeans, n_clusters=5)\n",
        "                                  .astype(str)\n",
        "                      )\n",
        "\n",
        "df['pca'] = df['tfidf'].pipe(hero.pca)\n",
        "\n",
        "df.head()"
      ],
      "execution_count": 27,
      "outputs": [
        {
          "output_type": "execute_result",
          "data": {
            "text/html": [
              "<div>\n",
              "<style scoped>\n",
              "    .dataframe tbody tr th:only-of-type {\n",
              "        vertical-align: middle;\n",
              "    }\n",
              "\n",
              "    .dataframe tbody tr th {\n",
              "        vertical-align: top;\n",
              "    }\n",
              "\n",
              "    .dataframe thead th {\n",
              "        text-align: right;\n",
              "    }\n",
              "</style>\n",
              "<table border=\"1\" class=\"dataframe\">\n",
              "  <thead>\n",
              "    <tr style=\"text-align: right;\">\n",
              "      <th></th>\n",
              "      <th>text</th>\n",
              "      <th>topic</th>\n",
              "      <th>tfidf</th>\n",
              "      <th>kmeans_labels</th>\n",
              "      <th>pca</th>\n",
              "    </tr>\n",
              "  </thead>\n",
              "  <tbody>\n",
              "    <tr>\n",
              "      <th>0</th>\n",
              "      <td>Claxton hunting first major medal\\n\\nBritish h...</td>\n",
              "      <td>athletics</td>\n",
              "      <td>[0.0, 0.0, 0.0, 0.0, 0.0, 0.0, 0.0, 0.0, 0.0, ...</td>\n",
              "      <td>2</td>\n",
              "      <td>[-0.0911593774447469, 0.10345322152487348]</td>\n",
              "    </tr>\n",
              "    <tr>\n",
              "      <th>1</th>\n",
              "      <td>O'Sullivan could run in Worlds\\n\\nSonia O'Sull...</td>\n",
              "      <td>athletics</td>\n",
              "      <td>[0.0, 0.0, 0.0, 0.0, 0.0, 0.0, 0.0, 0.0, 0.0, ...</td>\n",
              "      <td>2</td>\n",
              "      <td>[-0.0003157403280008015, 0.02494102027850467]</td>\n",
              "    </tr>\n",
              "    <tr>\n",
              "      <th>2</th>\n",
              "      <td>Greene sets sights on world title\\n\\nMaurice G...</td>\n",
              "      <td>athletics</td>\n",
              "      <td>[0.0, 0.0, 0.0, 0.0, 0.0, 0.0, 0.0533678197008...</td>\n",
              "      <td>2</td>\n",
              "      <td>[-0.11768140287999865, 0.12864372053175632]</td>\n",
              "    </tr>\n",
              "    <tr>\n",
              "      <th>3</th>\n",
              "      <td>IAAF launches fight against drugs\\n\\nThe IAAF ...</td>\n",
              "      <td>athletics</td>\n",
              "      <td>[0.0, 0.0, 0.0, 0.0, 0.0, 0.0, 0.0, 0.0, 0.0, ...</td>\n",
              "      <td>4</td>\n",
              "      <td>[-0.09130415758034965, 0.15400996830449803]</td>\n",
              "    </tr>\n",
              "    <tr>\n",
              "      <th>4</th>\n",
              "      <td>Dibaba breaks 5,000m world record\\n\\nEthiopia'...</td>\n",
              "      <td>athletics</td>\n",
              "      <td>[0.24734311047947527, 0.0, 0.0, 0.0, 0.0, 0.0,...</td>\n",
              "      <td>2</td>\n",
              "      <td>[-0.09132734350751462, 0.13501836583864646]</td>\n",
              "    </tr>\n",
              "  </tbody>\n",
              "</table>\n",
              "</div>"
            ],
            "text/plain": [
              "                                                text  ...                                            pca\n",
              "0  Claxton hunting first major medal\\n\\nBritish h...  ...     [-0.0911593774447469, 0.10345322152487348]\n",
              "1  O'Sullivan could run in Worlds\\n\\nSonia O'Sull...  ...  [-0.0003157403280008015, 0.02494102027850467]\n",
              "2  Greene sets sights on world title\\n\\nMaurice G...  ...    [-0.11768140287999865, 0.12864372053175632]\n",
              "3  IAAF launches fight against drugs\\n\\nThe IAAF ...  ...    [-0.09130415758034965, 0.15400996830449803]\n",
              "4  Dibaba breaks 5,000m world record\\n\\nEthiopia'...  ...    [-0.09132734350751462, 0.13501836583864646]\n",
              "\n",
              "[5 rows x 5 columns]"
            ]
          },
          "metadata": {
            "tags": []
          },
          "execution_count": 27
        }
      ]
    },
    {
      "cell_type": "code",
      "metadata": {
        "colab": {
          "base_uri": "https://localhost:8080/",
          "height": 542
        },
        "id": "zucdhy26c7n5",
        "outputId": "f25be38a-8d4f-4d54-9147-454c23e50775"
      },
      "source": [
        "hero.scatterplot(df, 'pca', color='kmeans_labels', title=\"K-means BBC Sport news\")"
      ],
      "execution_count": 28,
      "outputs": [
        {
          "output_type": "display_data",
          "data": {
            "text/html": [
              "<html>\n",
              "<head><meta charset=\"utf-8\" /></head>\n",
              "<body>\n",
              "    <div>\n",
              "            <script src=\"https://cdnjs.cloudflare.com/ajax/libs/mathjax/2.7.5/MathJax.js?config=TeX-AMS-MML_SVG\"></script><script type=\"text/javascript\">if (window.MathJax) {MathJax.Hub.Config({SVG: {font: \"STIX-Web\"}});}</script>\n",
              "                <script type=\"text/javascript\">window.PlotlyConfig = {MathJaxConfig: 'local'};</script>\n",
              "        <script src=\"https://cdn.plot.ly/plotly-latest.min.js\"></script>    \n",
              "            <div id=\"a8547976-35a6-40bf-9300-e42b47cc254b\" class=\"plotly-graph-div\" style=\"height:525px; width:100%;\"></div>\n",
              "            <script type=\"text/javascript\">\n",
              "                \n",
              "                    window.PLOTLYENV=window.PLOTLYENV || {};\n",
              "                    \n",
              "                if (document.getElementById(\"a8547976-35a6-40bf-9300-e42b47cc254b\")) {\n",
              "                    Plotly.newPlot(\n",
              "                        'a8547976-35a6-40bf-9300-e42b47cc254b',\n",
              "                        [{\"hoverlabel\": {\"namelength\": 0}, \"hovertemplate\": \"kmeans_labels=2<br>x=%{x}<br>y=%{y}\", \"legendgroup\": \"kmeans_labels=2\", \"marker\": {\"color\": \"#636efa\", \"symbol\": \"circle\"}, \"mode\": \"markers\", \"name\": \"kmeans_labels=2\", \"showlegend\": true, \"type\": \"scatter\", \"x\": [-0.0911593774447469, -0.0003157403280008015, -0.11768140287999865, -0.09132734350751462, -0.11045662192602028, -0.028988694823461933, -0.12906666988002738, -0.15767454828227787, -0.09546028532240135, -0.10808905157617808, -0.08928778742246657, -0.08061497302543974, -0.07798958777946824, -0.10536425572159959, -0.11098319246934445, -0.10808905157617808, -0.0965547118233693, -0.10716108153302138, -0.0743499005494525, -0.10869589790467017, -0.09925781491754194, -0.11480031512384499, -0.10921160034309377, -0.07440083173943654, -0.04972243506764013, -0.132465558408718, -0.1314936950483763, -0.10217940688957217, -0.1017358075516629, -0.07911166272331552, -0.06951096466108626, -0.08996659214094584, -0.0617104736287717, -0.0940279069981983, -0.09606965557429571, -0.09693278932350226, -0.10477586186920938, -0.12822332706045028, -0.13859297806555249, -0.11377556829965585, -0.10033043224974315, -0.11232794130558407, -0.06191193639071801, -0.12168135855826877, -0.06492441492880108, -0.10978231300213968, -0.1600005714494198, -0.11233814246570308, -0.0303179276306636, -0.17685641711251707, -0.10728906576974018, -0.10603555030396448, -0.05904996038451332, -0.10784514333143773, -0.105058095028752, -0.10493765703536276, -0.06400982725829628, -0.014871673312666955, -0.08084762450071736, -0.0635749972025368, -0.0940279069981983, -0.07461346926667878, -0.08032451003368776, -0.08351558038425747, -0.0923403380834261, -0.07744396672538852, -0.08840718579318668, -0.15282415484003703, -0.11304792661888352, -0.04433103465329695, -0.10739895554188755, -0.1380232777339178, -0.05848025885408748, -0.05453585278070065, -0.05812865270299984], \"xaxis\": \"x\", \"y\": [0.10345322152487348, 0.02494102027850467, 0.12864372053175632, 0.13501836583864646, 0.1574388539658106, 0.07056820656514416, 0.170568778671215, 0.24013961653062313, 0.1157718856824172, 0.10856963424589101, 0.11770352989107262, 0.048730150378133025, 0.13007201226428453, 0.1769217205234319, 0.135641510366516, 0.10856963424589101, 0.15808653124415087, 0.13081869204147867, 0.11174452835396056, 0.15313117741836615, 0.15861743551043433, 0.13614154719610458, 0.16106768504810312, 0.10390337841612045, 0.0771871734118909, 0.20815724019725865, 0.15899457359549002, 0.1360554191264278, 0.08974325872662067, 0.08416071867369583, 0.0968363481212857, 0.12600504089384265, 0.12043749649612648, 0.1527925824360402, 0.11317983583183443, 0.1382335258932532, 0.1334588455433119, 0.150458301897397, 0.1639351477236117, 0.08913022220756621, 0.13691595987543162, 0.1500219896367047, 0.08590462561878157, 0.1559334178852027, 0.10140191379553627, 0.13212321664584015, 0.29489898565261646, 0.1561598619049617, 0.08135234742693244, 0.2497399409107582, 0.0837021957930232, 0.11803254387930305, 0.06570367978098543, 0.08467559804844535, 0.1286252733236824, 0.18541949643044836, 0.101984208353193, 0.05055958843035107, 0.11197580437766494, 0.10795879280269556, 0.1527925824360402, 0.10406002814891713, 0.0974609655690662, 0.12044850176543262, 0.0976968468445372, 0.10342231432231869, 0.11293907015315009, 0.2207222969607878, 0.12430995026710501, 0.05650017871476008, 0.15182124318191662, 0.1794482402419717, 0.11543153066319826, 0.13923106468559823, 0.14575421156637203], \"yaxis\": \"y\"}, {\"hoverlabel\": {\"namelength\": 0}, \"hovertemplate\": \"kmeans_labels=4<br>x=%{x}<br>y=%{y}\", \"legendgroup\": \"kmeans_labels=4\", \"marker\": {\"color\": \"#EF553B\", \"symbol\": \"circle\"}, \"mode\": \"markers\", \"name\": \"kmeans_labels=4\", \"showlegend\": true, \"type\": \"scatter\", \"x\": [-0.09130415758034965, -0.12062422051024006, -0.14104527818524853, -0.14582945573576397, -0.08569489697975938, -0.15120861908892635, -0.08910144288877342, -0.05445882127788233, -0.057657904629148535, -0.056211680162053745, -0.09396716861184047, -0.11272026615452159, -0.12718891884993697, -0.05439315128394288, -0.12133668894894369, -0.12829719985012758, -0.1435903799859106, -0.135406004381777, -0.13052822119006433, -0.1465382196064936, -0.1279544996410367, -0.05439315128394288, -0.1320874978343461, -0.06974838647462421], \"xaxis\": \"x\", \"y\": [0.15400996830449803, 0.33153474699873836, 0.33395944216875484, 0.3345544820131592, 0.18016095881933036, 0.3367689187563466, 0.16929340932107767, 0.1292898026713684, 0.12306000548619069, 0.07952600900645053, 0.16006769776427426, 0.2587694233217012, 0.30347680813282735, 0.13487291587405328, 0.3224758589142166, 0.34394566917198155, 0.31464112432386226, 0.3271030350390208, 0.2780291504806861, 0.34299395962378887, 0.3380804999652918, 0.13487291587405328, 0.308389850820641, 0.1343721684508071], \"yaxis\": \"y\"}, {\"hoverlabel\": {\"namelength\": 0}, \"hovertemplate\": \"kmeans_labels=3<br>x=%{x}<br>y=%{y}\", \"legendgroup\": \"kmeans_labels=3\", \"marker\": {\"color\": \"#00cc96\", \"symbol\": \"circle\"}, \"mode\": \"markers\", \"name\": \"kmeans_labels=3\", \"showlegend\": true, \"type\": \"scatter\", \"x\": [-0.04301136117827747, -0.08150702347997665, -0.02259236630321309, -0.06293825803477894, 0.05249353673816953, -0.026156022210207075, -0.033521092086242245, 0.028461228040996822, -0.04713581292864591, -0.11386352763644243, -0.08350151337413256, -0.0969714541748912, 0.07296209302346321, -0.03371697879883644, -0.07644869137181176, -0.19876864164776906, -0.10014863954744999, -0.12675822417489274, -0.006138845578279779, -0.016466732842355676, -0.011403695332945775, -0.002007112185145622, -0.0051365994884358035, -0.054920120672891835, -0.12317967413835136, -0.17119344344583423, -0.004660257023042197, -0.041426297545425365, -0.03805252757475753, -0.047127780933261414, -0.05179638554808816, -0.13825917337521582, -0.023917743591797127, -0.011253599279011034, -0.17131428794966178, -0.10763394726723091, 0.004855597746478459, -0.0675673038582498, -0.13730299795720244, -0.06458260198639078, -0.01714888558107949, 0.016491109180719835, 0.006841396626398273, -0.05993779843105305, -0.04320102170550491, 0.0029513128754302224, 0.014940655129678612, 0.021560827290942167, -0.03137357737670535, -0.059979608608463277, -0.07749098463691105, -0.06602405850424267, -0.06377110323359693, -0.10977494079901755, -0.14862191654719353, -0.04879226719935441, -0.056439856108899754, -0.08692110952649316, -0.02426512820327818, -0.02703506424860938, -0.040255817818073636, -0.05404270291078309, -0.047617723379338645, -0.047534608292660256, -0.05537245433760529, -0.10687890102955534, -0.06070275040808017, -0.12705584362487218, -0.0886006044761817, -0.07406483747520529, -0.11307573156445115, -0.09682898048074257, -0.1848159438949422, -0.05511881509639405, -0.0830376708895251, -0.050111944980258866, -0.07078806922636503, -0.059408643391035874, -0.08768620689415843, -0.0659820552672524, -0.10992762317640806, -0.13240249270450555, -0.20209992459005124, -0.08606341619729431, -0.03333038689691651, -0.07557276275187232, -0.008629438812466358, -0.12727423464500584, -0.076441300365075, -0.07534311102911684, -0.182600374385204, -0.08677283702436202, -0.051982798823807165, -0.07317641607805672, -0.13036771404103795, -0.13036771404103795, -0.14937943661942013, -0.11812181471262787, -0.03606607876832435, -0.08004705196256322, -0.07816131060202283, -0.10678811899441455, -0.07580033350013239, 0.02195466016270009, -0.03845880204424147, -0.0903314861221465, -0.10621646994996617, -0.050251925137508854, -0.07606892929719795, -0.11801004732998029, -0.09967421609721869, -0.11972523340880784, -0.1405721638664943, -0.06874554130544086, -0.1275481783813431, -0.05114122628591466, -0.07079533422870736, -0.04927666455951581, -0.059831446982675486, -0.11692094700867998, -0.045333290004034174, -0.05453643218397051, -0.16278520627306595, -0.04033401541059879, -0.11226673535706591, -0.03190114868622532, -0.02548387866179084, -8.271913647746665e-05, -0.014153919952858111, -0.03245249740781499, -0.021952728011431367, -0.17490414959515624, 0.01695660434532231, -0.0617528691792129, -0.05161562294014355, -0.04640263930696748, -0.09493760311782982, -0.020946845734749413, 0.005111395528447583, -0.03884659460089254, -0.11312346730282102, -0.1135350544651204, -0.06054827605500052, -0.05455904586262021, -0.1322277391769136, -0.03247495142933751, -0.05765135430242579, -0.0695293804924241, -0.13106787326255423, -0.1057141797860682, -0.1164953054538528, -0.09574536205341531, -0.13111694946845912, -0.018097419918955044, -0.06377013682944688, -0.10087478919973683, -0.19356200657090047, -0.0632131911211535, -0.053024049767894876, -0.11597012951924351, -0.05123865045294972, -0.09773053980632267, -0.0721482134671821, -0.05695516636428479, -0.0789289971580303, -0.1466953036530255, -0.044609018410279776, -0.11371017702319151, -0.1466953036530255, -0.06710347737754595, -0.06832205093378732, -0.06832205093378732, -0.09297216080736402, -0.0693480129438719, -0.06029807649136726, -0.05176355434448224, -0.03615454154033166, -0.06019991268562981, -0.08725608919355597, -0.133544414654094, -0.07240813893530468, -0.040698403767723136, -0.04016228964549376, -0.060349740984636156, -0.07172553169251236, -0.1566628025235843, -0.0745978026282354, -0.1699121206695382, -0.09036012348125741, -0.05517055881514385, -0.04014504951414571, -0.061721791403257724, -0.08165904309785041, -0.12824025791246496, -0.08674578804502676, -0.09589810665360705, -0.07979461550991603, -0.1610665379415483, -0.15682867786916505, -0.11914907145620779, -0.07911493174643207, -0.07299692795693101, -0.05912315324397108, 0.005069948335054227, -0.036881236276555464, -0.10076712078760165, -0.07664314138526453, -0.0677729155215581, -0.05366212891940751, -0.19573576261185724, -0.05508903855613749, -0.0653716410589585, -0.07686452651323279, -0.04276403532474193, -0.20026545616532804, -0.05194027784353827, -0.14462147970466807, -0.08350151337413256, -0.0665120341940017, -0.07769118709551934, -0.0353476316627781, -0.047361609846544875, -0.12165125343300645, -0.07005378570643513, -0.030163135607273853, -0.05985504305478389, -0.022954863985346165, 0.0025155473559808784, -0.1338429378891461, -0.005822874929837837, -0.1005747057461141, -0.03261319775662379, -0.04225770058641822, -0.09705412371974508, -0.03221073054817527, -0.08215294758841764, -0.18117351591183023, -0.12576153296968434, -0.06020271212602401, -0.0868786012602918, -0.09178253837629256, -0.060281040914885294, -0.04893738099452093, -0.024513927268659974, -0.08924756291316167, -0.06669888951184774, -0.1853878335894729, -0.11379257015067352, -0.12249127904365499, -0.06400286944766544, -0.17251331950034793, -0.08056457466326199, -0.13005434151563303, -0.07572600806013507, -0.025471492405903837, -0.045343868313357585, -0.05808311160795445, -0.1491050396677292, -0.07925196893125512, -0.126429194811751, -0.07904459005694899, -0.04089983842578529, -0.03999497932745587, -0.05485088806237221, -0.10139803652554702, -0.009374639404486766, -0.05172731225686288, -0.08303165494917303, -0.021780841924304732, -0.09864193905645856, -0.06490806876976156, -0.035680026539354766, -0.0028880419137469354, 0.03829970942836738, 0.027382657986894293, -0.009022572899542652, -0.007357490177021928, 0.03472210577869057, 0.025260351748273444, 0.0365019476294415, 0.04715854315668626, 0.04510558120061044, -0.024870025787707476, 0.004244941102403067, -0.0019370888144881742, 0.025030258961172915, -0.01652406842880091, 0.021184188017911144, 0.06364534423672022, 0.015089479556015518, 0.04452486972984747, -0.05512717054249811, -0.0539441737471373, 0.028852596679280466, 0.027134360883355413, -0.040795958225274126, 0.06364182171260208, -0.0022242768872143565, -0.031199821771019095, -0.021909017471928628, -0.047907993766764446, -0.04279249155185942, -0.05501852922604351, -0.05576740058257741, -0.0694643826767099, -0.03810220521834475, -0.0544951430909024, -0.06004852120577891, -0.04895708714810106, -0.05575882793154953, -0.05114724863922332, -0.027569298261477, -0.07325004134726697, -0.038218256689600896, -0.040342096640434165, -0.046683713441472305, -0.05114724863922332, -0.06420371556744613, -0.07325004134726697, -0.040538406466715075, -0.046550092385532454, -0.06775675357404976, -0.06027608975395807, -0.05564509452998359, -0.07373403999699187, -0.044663887518499125, -0.04182853324060966, -0.022223956063268442, -0.06038750938702857, -0.05793830215372999, -0.06105282620359032, -0.04142556384413418, -0.05641604326238803, -0.06243031032511998, -0.04811620784209418, -0.033515175984634084, -0.02575626296526009, -0.06880701944551536, -0.07599997839219025, -0.051675563127080215, -0.05558580567884092, -0.05134507180295147, -0.04319280782258662, -0.0658852602684855, -0.0664538225677118, -0.04808685165850093, -0.0703908808194756, -0.056713799679468345, -0.07571038220520125, -0.07571038220520125, -0.05623088868992488, -0.048233511780626875, -0.03172699311453779, -0.049382781907412514, -0.08156730127295087, -0.06960662543301607, -0.04095696835706669, -0.03988854052075207, -0.06218429808444781, -0.06269541717453905, -0.03872081905838463, -0.046266658909523556, -0.0998873673024923, -0.05386917580168358, -0.06493786988610867, -0.05455511141357316, -0.02511616925642706, -0.08028467709955873, -0.08037185358896369, -0.05127588538595205, -0.07707621128759405, -0.05775403426158661, -0.04820327120320165, -0.1029294706388044, -0.035864966787977126, -0.02973168711923828, -0.04741771384844696, -0.07995759802288248, -0.07212340104431948, -0.041866346460255395, -0.0718517547146783, -0.06623187087769143, -0.032320213752732675, -0.05113183474097746, -0.02777736097250585, -0.061135612005267445, -0.020938699464245713, -0.06242599563953846, -0.037691146018572756, -0.07915390838239861, 0.017123093361620993, -0.03167886732052793, -0.06348878098937087, -0.04179554406541996, -0.06681427197262596, -0.04810106340395137, -0.04984039790998764, -0.04872379173063194, -0.029133981198898793], \"xaxis\": \"x\", \"y\": [0.03469599215061922, 0.11353962695158747, 0.013308371933533226, 0.017603902230985596, -0.006228236097669565, 0.06438933175469448, 0.06277678071644428, -0.004362397191626472, -0.08560270092157449, -0.11578571164832933, -0.06960682141669203, -0.06798649394601297, -0.06200865785019817, -0.009054430906670078, -0.0948721112414632, -0.2180621091788885, -0.12005240040760072, -0.16658210711579388, -0.056151499225827406, -0.04588540859944751, -0.04290468671904009, -0.027170897106216743, -0.018028621548612934, -0.058407392517188454, -0.19940312927297105, -0.17061512453890476, -0.04531259382797103, -0.04333804146447849, -0.10383759215221758, -0.03351425027725606, -0.015666768158310886, -0.12706935824336374, -0.1284561315926261, -0.07976577074951097, -0.17034043636107282, -0.12176920804022563, -0.07089433417882114, -0.03293851738664147, -0.14223323210235464, -0.07836123873945335, -0.014400142694917274, -0.042614954818435524, -0.04912668028510335, -0.008989137783420868, 0.014897832498790006, -0.020025592765262046, -0.11199086552604796, -0.00969779340219272, -0.020282340450024992, 0.03676446887531775, -0.07433634127843639, -0.05803546879331009, -0.08287364249387506, -0.10119831272119957, -0.17323909787491898, -0.14283737397048685, -0.03398408758810148, -0.08121203547672441, -0.05139422695857476, -0.018819112243125217, -0.03153472479050655, -0.007417941975448713, 0.006388219032726599, -0.08563939339415895, -0.11076684559132947, -0.11048002195926604, -0.013274977407933859, -0.08908383138434199, -0.11307419594644133, -0.0778236048896912, -0.11365918914235877, -0.06942085417414502, -0.2412594015070766, -0.1123576226967315, -0.05717335995122731, -0.05836758101795252, -0.07277633753989544, -0.02830027669840162, -0.07382517776194247, -0.03498105083459027, -0.09072888888019667, -0.08555897525076185, -0.18269155840497805, -0.00594317521069349, -0.005020235584865923, -0.06792691728251901, 0.013570070474454392, -0.08155698876798217, -0.019026129674418895, -0.07474590227392824, -0.16537956440867824, -0.06488046958989763, -0.06239659953623607, -0.10408204579941727, -0.14151853570995437, -0.14151853570995437, -0.1559627880309624, -0.12272500389567276, -0.0389532366187884, -0.06131932803044206, -0.04766541973159475, -0.08014271959030195, -0.060043490365788044, 0.03823589900399341, -0.006005929443035736, -0.0956789471591226, -0.0563997612890371, -0.013199802464161244, -0.06940870047184253, -0.10500679646075986, -0.06981689801196297, -0.09714589984933904, -0.0009777971505573542, -0.08901050875893475, -0.05061463108546945, -0.0209477872958404, -0.016857163404555144, 0.004596686403440916, -0.06719556850370971, -0.0868139993838936, -0.02557637090954229, -0.07616882365932134, -0.17239523508205593, -0.005517028147126049, -0.06948051898878312, -0.04688601054629997, -0.007809954111577048, 0.010116253200693495, 0.001857985077112313, -0.07645434252554105, -0.08121688093443463, -0.20005285333439707, -0.006381065452226064, -0.029986837117625096, -0.041711282080372655, -0.0671839716031242, -0.13549960588426763, 0.011120547798294063, 0.00029848430989643405, -0.05571401065416006, -0.12257917290315729, -0.14443184251069457, -0.06888639020382617, -0.026425258758906566, -0.1487837393310987, -0.055785710739281326, -0.03386460528888104, -0.00407622215666669, -0.14987673589785425, -0.15922700312095858, -0.0943917197198382, -0.11973832607483985, -0.13261024592971643, -0.05330386936457274, 0.04317851238030899, -0.0890827999191815, -0.1976754424785083, -0.05052985865096957, -0.03743973943053633, -0.13675605919424552, -0.06706111775645689, -0.11087174949522391, -0.03526808870660965, -0.06458558059001193, -0.03981713409671318, -0.16702969062002074, 0.0017151226301810093, -0.09203602110401064, -0.16702969062002074, -0.05490415900923787, -0.014319631736938909, -0.014319631736938909, -0.096859000210956, -0.06508046012520445, -0.03236882045502406, -0.0012425448408696898, -0.05183549238456894, -0.03356146306458711, -0.029140658879041135, -0.10635632365403581, -0.09213916360831872, -0.08681545585154803, -0.06588699015791502, -0.0717255055040475, 0.018179146878695086, -0.09443816954147825, -0.04773930015228181, -0.19764190096540757, -0.06711199150354118, -0.030758247957177222, -0.020387359274827956, -0.09018952408199914, -0.0636796882665983, -0.13697278562777507, -0.12921279279807635, -0.11132287830333513, -0.11847452619990825, -0.13169175512492, -0.19384038585579821, -0.16881505314314124, -0.09045875492703465, -0.09265279601199117, -0.03397873751947826, -0.03756842999151821, 0.00537857683757648, -0.14897645621316594, -0.17777468569464747, -0.1500371045368652, -0.06226931436856383, -0.24826067880439362, -0.07297809138129256, -0.06576794825304538, -0.11689427595446572, -0.026926440311807846, -0.21814096707515487, -0.043012405853762654, -0.17278380143296648, -0.06960682141669203, -0.12657079728334147, -0.1279159324683847, -0.02950901248852774, -0.0556841198018543, -0.13725650406751783, -0.09125690378707674, -0.010856979573993845, -0.06176936096257155, -0.010230841119569496, 0.009010886956220975, -0.18621642400399832, -0.053001821466598514, -0.06323795479073903, -0.00032423249726639357, -0.008347184007678829, -0.11867668090448837, -0.012711167346032056, -0.058436696469271576, -0.18853620629262371, -0.10168735330034517, 0.05192861749194793, -0.057399794436165774, -0.06475062338104133, -0.038691920830494296, -0.014836341153575768, -0.08412920042364978, -0.09270084106629008, -0.08463022905983288, -0.1690558753394274, -0.13197610297592774, -0.10814548330443255, -0.024316135731722456, -0.20345841697691813, -0.03529753382433006, -0.11502000818241725, -0.06448669122163143, -0.07016899180028692, 0.023556756378284086, -0.09680791604625161, -0.15235220149242337, -0.09438402059300394, -0.12253171360224308, -0.09499567803478505, -0.053452989452883994, -0.01080432079797584, 0.02318114077086396, -0.006692332640137974, 0.03100131392039781, -0.043648492950710056, -0.11109139750847616, -0.02296191257319317, -0.10861363250383725, -0.028410305827131926, -0.02223581783651802, -0.020984582368653613, -0.039936778600516205, -0.09790535159907822, -0.012571161517142156, 0.019297181718638822, -0.05434314021991631, 0.006578656014320749, 0.0079715931477454, -0.024679298282445392, -0.01835920264246066, -0.026565004010791364, -0.02591668043441681, -0.050152293475765865, -0.02742104424263576, -0.02499889559851999, -0.008060645508439256, -0.018910819794493293, -0.0162183599783966, 0.008167079881323324, -0.030623534555386602, -0.03165954707857196, -0.025690453524082526, -0.019695059200748447, -0.057794567149613646, -0.013459796000806157, -0.06532539997721089, -0.054989366372410475, -0.07860002164420067, -0.040629528839239204, 0.07799726522177775, 0.10523207975989202, 0.04832402655477831, 0.06942573663320725, 0.08889983276868961, 0.08607414603342045, 0.07877048024284665, 0.09568821804004417, 0.07989234648217541, 0.11615318569291229, 0.033372723037963334, 0.05506552108761626, 0.08691691692274311, 0.09585221695400395, 0.08785798796625367, 0.11615318569291229, 0.05162331741057591, 0.05506552108761626, 0.08943909925898055, 0.1061220430240392, 0.14262856890185896, 0.05992564769323593, 0.06566494506700303, 0.117177027358889, 0.03128465705474457, 0.09661792504943079, 0.07514687735199327, 0.11591851165784497, 0.03911452228330824, 0.10757276695887545, 0.05954945558371725, 0.07135763510313214, 0.09250226864319222, 0.07231394073671961, 0.03612815617516425, 0.042059902600373344, 0.1357337403626745, 0.11919775086081626, 0.10148439136623247, 0.04874463021761835, 0.06795775478615652, 0.06694360144729548, 0.09688150868192037, 0.01161922407332211, 0.10578708679988748, 0.0595047703422873, 0.07890272465020867, 0.022702908522508197, 0.022702908522508197, 0.033775151735487785, 0.05275244529689077, 0.04299474511203361, 0.08000600994601303, 0.15124594022003426, 0.11060910795520772, 0.07584034375337564, 0.07365574409457501, 0.09694338230078998, 0.06323507332926886, 0.012730118515083863, 0.09339202666801621, 0.14940110181320881, 0.11411471363142249, 0.08124433696010061, 0.0748572089502461, 0.03666275971964555, 0.044957909769407806, 0.045147638666863735, 0.054401602133315165, 0.11025497710936133, 0.02724014451279171, 0.08250704837748668, 0.1347723688240901, 0.045115044375078815, 0.038437651929466854, 0.07814397835842192, 0.03644419149133615, 0.047536970469810584, 0.06919433691018456, 0.06414343766958146, 0.045925703651792674, 0.02859412952624466, 0.06751701918601818, 0.10593061893415488, 0.0704966751678095, 0.06832597714486353, 0.07728771007687797, 0.07604183387066848, 0.07596240647285192, 0.0469810662991126, 0.06733366622840527, 0.07956369192784495, 0.1048332982451919, 0.10857681929144775, 0.052975939758444064, 0.06002590968635287, 0.013903406134404836, 0.07147068008432618], \"yaxis\": \"y\"}, {\"hoverlabel\": {\"namelength\": 0}, \"hovertemplate\": \"kmeans_labels=0<br>x=%{x}<br>y=%{y}\", \"legendgroup\": \"kmeans_labels=0\", \"marker\": {\"color\": \"#ab63fa\", \"symbol\": \"circle\"}, \"mode\": \"markers\", \"name\": \"kmeans_labels=0\", \"showlegend\": true, \"type\": \"scatter\", \"x\": [0.2531497032320966, 0.21428103932787246, 0.22604303002665413, 0.2175738651944667, 0.11992548739018459, 0.13973633956353257, 0.1212987173438888, 0.1063588982148017, 0.14944947346228954, 0.10148441989210676, 0.12015003343214777, 0.313413998052938, 0.0632650154774105, 0.2095028561812274, 0.03217726844499547, 0.06155027491325433, 0.14887714224095122, 0.2251934686441493, 0.17601409145634206, 0.06155027491325433, 0.18923871899965924, 0.13952463134051324, 0.16215777608619178, 0.07279762459509401, 0.21497357887373106, 0.23020005933702867, 0.21132635326689064, 0.13969647672262983, 0.10520670760539765, 0.2521390911980589, 0.16215777608619178, 0.07279762459509401, 0.19230011046512568, 0.09277733125617102, 0.11186927240498426, 0.08187194992697379, 0.164543003007222, 0.11111997428318729, 0.18277176323453184, 0.12945576879107476, 0.24600128250486247, 0.2509362327337388, 0.21435383220127244, 0.2628304442454225, 0.16641174826995092, 0.06133208752123734, 0.19767677956506183, 0.13286740443298412, 0.1883416041862482, 0.031018337280856123, 0.2658024945738256, 0.26631400120982546, 0.23019762863211587, 0.12778228552021745, 0.22383196165822516, 0.11954016662304949, 0.05636994359591844, 0.20589624649981592, 0.1676357466570751, 0.16751246976183412, 0.22948327361556642, 0.2979649763784411, 0.20884232368135383, 0.15762399188791953, 0.12852450035702412, 0.19275680056483463, 0.3712297270623384, 0.13072758807413623, 0.257391680861831, 0.3418351445232987, 0.15504660344637633, 0.3051495609214637, 0.24927846391796546, 0.3515264444903567, 0.1959500074526428, 0.16901947488324331, 0.06184760916537893, 0.18969858177441526, 0.24708886089639384, 0.17379755477077682, 0.2754357234552891, 0.327014224032835, 0.32756383481949697, 0.10456683533992453, 0.2664080175421009, 0.27973590123795433, 0.2830232264926532, 0.27705418021457856, 0.13894574131935358, 0.08985307929017614, 0.2075030548937801, 0.031034153718895213, 0.14530939607490906, 0.17697832625535442, 0.1110083132792481, 0.17792521716599072, 0.1001598643339859, 0.16850603054885627, 0.08763565088659792, 0.01736038113340855, 0.08956812528561953, 0.09365686576387848, 0.06734139749594863, 0.04708232896232515, 0.20542689928261443, 0.0390867133741891, 0.2861554873988756, 0.20403897054732567, 0.11373999165983727, 0.16602526368344234, 0.12963473949648327, 0.10119756699931479, 0.20864813339671837, 0.11361931910470323, 0.2312553106998298, 0.10345151841004308, 0.13465969098969816, 0.08420895800451336, 0.11001641210195545, 0.11963990959120802], \"xaxis\": \"x\", \"y\": [0.11869434552260341, 0.05725580473898112, 0.09703038438021376, 0.17761540991309074, 0.008981344167514334, 0.028509713694560925, 0.10697793010426522, 0.07299922859480673, 0.14651131682746393, 0.05925235821746478, 0.10382533610880197, 0.07161452395823736, 0.028484567893524017, 0.075015189616847, 0.0019065902094190803, 0.06380622225407202, 0.047238097862894485, 0.06418778153137226, 0.03179539959730997, 0.06380622225407202, 0.1712188624617403, 0.11009970850499222, 0.14035927037800283, 0.1124639059227321, 0.17334219023057482, 0.09104371128310633, 0.13305298581991154, 0.10982174113500184, 0.031745771043730164, 0.07448302574640502, 0.14035927037800283, 0.1124639059227321, 0.17618249760314889, 0.07630712176768298, 0.043498483605953285, 0.09417945406260089, 0.09441947223116391, 0.06118104661736549, 0.04125593427574499, 0.12258366331151543, 0.031010592723189397, 0.06003475951136014, 0.1626390219026491, 0.17566138581736623, 0.09045909888257611, 0.07764575786922781, 0.035150733849807825, 0.06956711722040762, 0.05036530541083127, 0.00845451465484852, 0.1147147765987233, 0.11579234500269016, 0.15622515174741397, 0.11068539190267825, 0.11053504449566247, 0.10222330636386213, 0.08068316265254319, 0.11223810098487001, 0.16256993630105, 0.16206765803102563, 0.16541938811415524, 0.017485379185039427, 0.054607065104637045, 0.155373865297438, 0.0770704436588625, 0.027100533066767553, 0.06919785532624974, 0.02849547636234922, 0.20614096288475223, 0.016588614282385176, 0.09784931133449346, 0.07120292564027629, 0.20284486523634362, 0.06700953007906428, -0.0002839249455528897, 0.13922094825582798, 0.059461435481627925, 0.03893233667568719, 0.0603860510466843, 0.12889619446281791, 0.17847254309675883, 0.06353328158172238, 0.06623978461892477, 0.09646330393260381, 0.2141306295821779, 0.20428233513366714, 0.2058763496231617, 0.018948578811604676, 0.11369595696409455, 0.050497040399814244, 0.06031862593162618, 0.07003736376663243, 0.01594434489855489, 0.02883572519745344, -0.019364214784608622, 0.1281077356660025, 0.053758090476917604, 0.13666436200909746, 0.07629260979291574, 0.06482435899125222, 0.06605655120691609, 0.12312644597201078, 0.06456418732215508, 0.05720825076353319, 0.03140249353702295, 0.012083071050578643, 0.022349142716181273, 0.12191867496117596, 0.10757786599019682, 0.11702780906576518, 0.1229174394229964, 0.07447240903160326, 0.02761078758539811, 0.04948162562284996, 0.02157948309825345, 0.07439657606788638, 0.10311832326666073, -0.0021452208921318664, -0.041898659025941705, 0.08189610669137834], \"yaxis\": \"y\"}, {\"hoverlabel\": {\"namelength\": 0}, \"hovertemplate\": \"kmeans_labels=1<br>x=%{x}<br>y=%{y}\", \"legendgroup\": \"kmeans_labels=1\", \"marker\": {\"color\": \"#FFA15A\", \"symbol\": \"circle\"}, \"mode\": \"markers\", \"name\": \"kmeans_labels=1\", \"showlegend\": true, \"type\": \"scatter\", \"x\": [0.13156452546518965, 0.19112567634099434, 0.1372947806602718, 0.05725127795148534, 0.06670903768728946, 0.15161263187538854, 0.135047573782149, 0.12888305118214088, 0.10055280910550098, 0.03995529175360111, 0.009650140182294228, 0.06050819053938443, 0.08271932310826031, 0.0305298065487115, 0.15790959306111194, 0.1965825143369809, 0.08506244455349542, 0.1587524605533245, 0.15261668426220448, 0.16251359115180847, 0.0914313368381807, 0.06238175389151169, 0.09362394278680283, 0.14885140847881662, 0.13560675060148983, 0.18680668460673105, 0.22305860948069886, 0.10957154359873637, 0.1559023191344196, 0.21099261630166183, 0.06211416036921778, 0.04068127292301102, 0.21189173967707045, 0.18251829444149584, 0.27876528069590273, 0.13896095367820377, 0.044344201611077445, 0.12255879634266043, 0.1212395640832018, 0.13733123386769583, 0.23958701296906534, 0.10414966311980545, 0.13284801248448413, 0.18298631533084614, 0.09520096755993267, 0.12656664327921666, 0.11137593445941647, 0.13410211801040633, 0.26871076270607436, 0.12778947833491475, 0.07015355777226985, 0.2072230302316571, 0.10949155538257067, 0.10414966311980545, 0.14101115943976877, 0.06403684429584194, 0.10094562786074404, 0.10419363228245784, 0.15176566985689874, 0.21173685861812838, 0.1031276077368453, 0.03886006763704932, 0.11962107695597675, 0.14626626770167458, 0.06724224118296529, 0.08641268256600071, 0.05890989414572764, 0.05736275653590935, 0.05341299200059104, 0.09004935591867634, 0.05762178444459221, 0.1729934526734369, 0.09531599046725389, 0.1190120421528765, 0.17177193205752106, 0.20443746818104636, 0.11878330083709428, 0.05114849110583766, 0.1761537063528449, 0.10921613562355248, 0.05773789128195416, 0.06585664145732292, 0.0939453919272066, 0.16264245645685374, 0.1321559220575864, 0.13182270977276794, 0.12978407321577135, 0.11236593942565681, 0.035512793926143524, 0.04505595390741931, 0.08205861799660846, 0.02243404849022271, 0.0020178351164806306, 0.1842167176000915, 0.05243686541795632, 0.13012177338430578, 0.13873935955625116, 0.09687722391454666, 0.11026533835126998, 0.11762611912384534, 0.14369325809202615, 0.18080461104260004, 0.1512920635784996, 0.262580608173619, 0.15167219166730944, 0.15181209846208665, 0.09520096755993267, 0.11908032613090345, 0.11912015923432621, 0.036323281642854796, 0.1272752181186158, 0.06991077820335667, 0.22523630420113452, 0.1405604999454148, 0.22374775988933002, 0.12424821749394734, 0.13707163560962513, 0.08018596303258599, 0.04601292921718647], \"xaxis\": \"x\", \"y\": [-0.18044838440773453, -0.20521224896627466, -0.16530452783492114, -0.04907639868692852, -0.10316322348382927, -0.2012061760147325, -0.17695243913679878, -0.1452291932193748, -0.12909819047491253, -0.04253792493735517, -0.055846599267631664, -0.0340759596522732, -0.10253990521276023, -0.0857926860548229, -0.15977671721577286, -0.16151430822224577, -0.10698442529535822, -0.1133276714554039, -0.1577217883927454, -0.14645753849301793, -0.09939648421612374, -0.04823745165750927, -0.08048709240221492, -0.15831937141347355, -0.09718387341935857, -0.12540498235050654, -0.11736049514691464, -0.147909755678738, -0.11096028969187452, -0.16137536948507847, -0.1248868498400582, -0.06458422123447898, -0.12394730124929353, -0.0825031421693789, -0.21995308882608652, -0.1784669155687498, -0.11653258371871722, -0.07813243883048103, -0.07707540098853526, -0.14962784871571932, -0.14008923243362448, -0.08403575673307398, -0.0897372072739936, -0.1555874929578845, -0.08935111289132651, -0.15017583574279192, -0.0914904020973898, -0.16723230909921125, -0.09802333834349844, -0.12885691715776576, -0.06771237879478986, -0.18711384663490613, -0.10811778497873209, -0.08403575673307398, -0.11691108031305357, -0.10172649305444523, -0.11747681489826486, -0.12688215738253938, -0.15483112935593898, -0.16059288252657353, -0.11426797926201834, -0.08731585385229547, -0.09947109974827287, -0.1449236072277996, -0.11398120720862256, -0.14204977493477172, -0.0929861609700153, -0.1266068488339579, -0.04223162920817831, -0.10699679090268634, -0.05726252058914166, -0.0934915411320802, -0.01790102065115145, -0.0826286342957431, -0.0680725811405172, -0.15938239587572275, -0.07656007718183407, -0.09774461304072013, -0.09727787390902318, -0.05571751553779916, -0.021651132737452863, -0.06762351993753316, -0.0385587729697426, -0.1411595296877622, -0.0919511617194353, -0.09159419045239806, -0.0804705371976794, -0.06330664506426079, -0.08658839913826828, -0.09440857923738259, -0.004274173826630237, -0.08100337624924875, -0.07236562373870206, -0.1882038915618333, -0.08357805623110742, -0.1168701339154783, -0.12136284118971372, -0.10915972509572733, -0.04784783916952501, -0.11131898626806148, 0.004512629119632815, -0.15736008325745082, -0.18862318746656065, -0.2172863341391007, -0.20096896186265625, -0.07608329708585425, -0.08935111289132651, -0.1426196707385174, -0.04865235416608878, -0.061326209575901396, -0.13314682886955356, -0.10603160853331053, -0.15947002691376197, -0.16187091570737372, -0.11726752342771068, -0.08303454212379456, -0.07412924209939814, -0.043802319787651985, -0.043301059990312085], \"yaxis\": \"y\"}],\n",
              "                        {\"legend\": {\"tracegroupgap\": 0}, \"template\": {\"data\": {\"bar\": [{\"error_x\": {\"color\": \"#2a3f5f\"}, \"error_y\": {\"color\": \"#2a3f5f\"}, \"marker\": {\"line\": {\"color\": \"#E5ECF6\", \"width\": 0.5}}, \"type\": \"bar\"}], \"barpolar\": [{\"marker\": {\"line\": {\"color\": \"#E5ECF6\", \"width\": 0.5}}, \"type\": \"barpolar\"}], \"carpet\": [{\"aaxis\": {\"endlinecolor\": \"#2a3f5f\", \"gridcolor\": \"white\", \"linecolor\": \"white\", \"minorgridcolor\": \"white\", \"startlinecolor\": \"#2a3f5f\"}, \"baxis\": {\"endlinecolor\": \"#2a3f5f\", \"gridcolor\": \"white\", \"linecolor\": \"white\", \"minorgridcolor\": \"white\", \"startlinecolor\": \"#2a3f5f\"}, \"type\": \"carpet\"}], \"choropleth\": [{\"colorbar\": {\"outlinewidth\": 0, \"ticks\": \"\"}, \"type\": \"choropleth\"}], \"contour\": [{\"colorbar\": {\"outlinewidth\": 0, \"ticks\": \"\"}, \"colorscale\": [[0.0, \"#0d0887\"], [0.1111111111111111, \"#46039f\"], [0.2222222222222222, \"#7201a8\"], [0.3333333333333333, \"#9c179e\"], [0.4444444444444444, \"#bd3786\"], [0.5555555555555556, \"#d8576b\"], [0.6666666666666666, \"#ed7953\"], [0.7777777777777778, \"#fb9f3a\"], [0.8888888888888888, \"#fdca26\"], [1.0, \"#f0f921\"]], \"type\": \"contour\"}], \"contourcarpet\": [{\"colorbar\": {\"outlinewidth\": 0, \"ticks\": \"\"}, \"type\": \"contourcarpet\"}], \"heatmap\": [{\"colorbar\": {\"outlinewidth\": 0, \"ticks\": \"\"}, \"colorscale\": [[0.0, \"#0d0887\"], [0.1111111111111111, \"#46039f\"], [0.2222222222222222, \"#7201a8\"], [0.3333333333333333, \"#9c179e\"], [0.4444444444444444, \"#bd3786\"], [0.5555555555555556, \"#d8576b\"], [0.6666666666666666, \"#ed7953\"], [0.7777777777777778, \"#fb9f3a\"], [0.8888888888888888, \"#fdca26\"], [1.0, \"#f0f921\"]], \"type\": \"heatmap\"}], \"heatmapgl\": [{\"colorbar\": {\"outlinewidth\": 0, \"ticks\": \"\"}, \"colorscale\": [[0.0, \"#0d0887\"], [0.1111111111111111, \"#46039f\"], [0.2222222222222222, \"#7201a8\"], [0.3333333333333333, \"#9c179e\"], [0.4444444444444444, \"#bd3786\"], [0.5555555555555556, \"#d8576b\"], [0.6666666666666666, \"#ed7953\"], [0.7777777777777778, \"#fb9f3a\"], [0.8888888888888888, \"#fdca26\"], [1.0, \"#f0f921\"]], \"type\": \"heatmapgl\"}], \"histogram\": [{\"marker\": {\"colorbar\": {\"outlinewidth\": 0, \"ticks\": \"\"}}, \"type\": \"histogram\"}], \"histogram2d\": [{\"colorbar\": {\"outlinewidth\": 0, \"ticks\": \"\"}, \"colorscale\": [[0.0, \"#0d0887\"], [0.1111111111111111, \"#46039f\"], [0.2222222222222222, \"#7201a8\"], [0.3333333333333333, \"#9c179e\"], [0.4444444444444444, \"#bd3786\"], [0.5555555555555556, \"#d8576b\"], [0.6666666666666666, \"#ed7953\"], [0.7777777777777778, \"#fb9f3a\"], [0.8888888888888888, \"#fdca26\"], [1.0, \"#f0f921\"]], \"type\": \"histogram2d\"}], \"histogram2dcontour\": [{\"colorbar\": {\"outlinewidth\": 0, \"ticks\": \"\"}, \"colorscale\": [[0.0, \"#0d0887\"], [0.1111111111111111, \"#46039f\"], [0.2222222222222222, \"#7201a8\"], [0.3333333333333333, \"#9c179e\"], [0.4444444444444444, \"#bd3786\"], [0.5555555555555556, \"#d8576b\"], [0.6666666666666666, \"#ed7953\"], [0.7777777777777778, \"#fb9f3a\"], [0.8888888888888888, \"#fdca26\"], [1.0, \"#f0f921\"]], \"type\": \"histogram2dcontour\"}], \"mesh3d\": [{\"colorbar\": {\"outlinewidth\": 0, \"ticks\": \"\"}, \"type\": \"mesh3d\"}], \"parcoords\": [{\"line\": {\"colorbar\": {\"outlinewidth\": 0, \"ticks\": \"\"}}, \"type\": \"parcoords\"}], \"pie\": [{\"automargin\": true, \"type\": \"pie\"}], \"scatter\": [{\"marker\": {\"colorbar\": {\"outlinewidth\": 0, \"ticks\": \"\"}}, \"type\": \"scatter\"}], \"scatter3d\": [{\"line\": {\"colorbar\": {\"outlinewidth\": 0, \"ticks\": \"\"}}, \"marker\": {\"colorbar\": {\"outlinewidth\": 0, \"ticks\": \"\"}}, \"type\": \"scatter3d\"}], \"scattercarpet\": [{\"marker\": {\"colorbar\": {\"outlinewidth\": 0, \"ticks\": \"\"}}, \"type\": \"scattercarpet\"}], \"scattergeo\": [{\"marker\": {\"colorbar\": {\"outlinewidth\": 0, \"ticks\": \"\"}}, \"type\": \"scattergeo\"}], \"scattergl\": [{\"marker\": {\"colorbar\": {\"outlinewidth\": 0, \"ticks\": \"\"}}, \"type\": \"scattergl\"}], \"scattermapbox\": [{\"marker\": {\"colorbar\": {\"outlinewidth\": 0, \"ticks\": \"\"}}, \"type\": \"scattermapbox\"}], \"scatterpolar\": [{\"marker\": {\"colorbar\": {\"outlinewidth\": 0, \"ticks\": \"\"}}, \"type\": \"scatterpolar\"}], \"scatterpolargl\": [{\"marker\": {\"colorbar\": {\"outlinewidth\": 0, \"ticks\": \"\"}}, \"type\": \"scatterpolargl\"}], \"scatterternary\": [{\"marker\": {\"colorbar\": {\"outlinewidth\": 0, \"ticks\": \"\"}}, \"type\": \"scatterternary\"}], \"surface\": [{\"colorbar\": {\"outlinewidth\": 0, \"ticks\": \"\"}, \"colorscale\": [[0.0, \"#0d0887\"], [0.1111111111111111, \"#46039f\"], [0.2222222222222222, \"#7201a8\"], [0.3333333333333333, \"#9c179e\"], [0.4444444444444444, \"#bd3786\"], [0.5555555555555556, \"#d8576b\"], [0.6666666666666666, \"#ed7953\"], [0.7777777777777778, \"#fb9f3a\"], [0.8888888888888888, \"#fdca26\"], [1.0, \"#f0f921\"]], \"type\": \"surface\"}], \"table\": [{\"cells\": {\"fill\": {\"color\": \"#EBF0F8\"}, \"line\": {\"color\": \"white\"}}, \"header\": {\"fill\": {\"color\": \"#C8D4E3\"}, \"line\": {\"color\": \"white\"}}, \"type\": \"table\"}]}, \"layout\": {\"annotationdefaults\": {\"arrowcolor\": \"#2a3f5f\", \"arrowhead\": 0, \"arrowwidth\": 1}, \"coloraxis\": {\"colorbar\": {\"outlinewidth\": 0, \"ticks\": \"\"}}, \"colorscale\": {\"diverging\": [[0, \"#8e0152\"], [0.1, \"#c51b7d\"], [0.2, \"#de77ae\"], [0.3, \"#f1b6da\"], [0.4, \"#fde0ef\"], [0.5, \"#f7f7f7\"], [0.6, \"#e6f5d0\"], [0.7, \"#b8e186\"], [0.8, \"#7fbc41\"], [0.9, \"#4d9221\"], [1, \"#276419\"]], \"sequential\": [[0.0, \"#0d0887\"], [0.1111111111111111, \"#46039f\"], [0.2222222222222222, \"#7201a8\"], [0.3333333333333333, \"#9c179e\"], [0.4444444444444444, \"#bd3786\"], [0.5555555555555556, \"#d8576b\"], [0.6666666666666666, \"#ed7953\"], [0.7777777777777778, \"#fb9f3a\"], [0.8888888888888888, \"#fdca26\"], [1.0, \"#f0f921\"]], \"sequentialminus\": [[0.0, \"#0d0887\"], [0.1111111111111111, \"#46039f\"], [0.2222222222222222, \"#7201a8\"], [0.3333333333333333, \"#9c179e\"], [0.4444444444444444, \"#bd3786\"], [0.5555555555555556, \"#d8576b\"], [0.6666666666666666, \"#ed7953\"], [0.7777777777777778, \"#fb9f3a\"], [0.8888888888888888, \"#fdca26\"], [1.0, \"#f0f921\"]]}, \"colorway\": [\"#636efa\", \"#EF553B\", \"#00cc96\", \"#ab63fa\", \"#FFA15A\", \"#19d3f3\", \"#FF6692\", \"#B6E880\", \"#FF97FF\", \"#FECB52\"], \"font\": {\"color\": \"#2a3f5f\"}, \"geo\": {\"bgcolor\": \"white\", \"lakecolor\": \"white\", \"landcolor\": \"#E5ECF6\", \"showlakes\": true, \"showland\": true, \"subunitcolor\": \"white\"}, \"hoverlabel\": {\"align\": \"left\"}, \"hovermode\": \"closest\", \"mapbox\": {\"style\": \"light\"}, \"paper_bgcolor\": \"white\", \"plot_bgcolor\": \"#E5ECF6\", \"polar\": {\"angularaxis\": {\"gridcolor\": \"white\", \"linecolor\": \"white\", \"ticks\": \"\"}, \"bgcolor\": \"#E5ECF6\", \"radialaxis\": {\"gridcolor\": \"white\", \"linecolor\": \"white\", \"ticks\": \"\"}}, \"scene\": {\"xaxis\": {\"backgroundcolor\": \"#E5ECF6\", \"gridcolor\": \"white\", \"gridwidth\": 2, \"linecolor\": \"white\", \"showbackground\": true, \"ticks\": \"\", \"zerolinecolor\": \"white\"}, \"yaxis\": {\"backgroundcolor\": \"#E5ECF6\", \"gridcolor\": \"white\", \"gridwidth\": 2, \"linecolor\": \"white\", \"showbackground\": true, \"ticks\": \"\", \"zerolinecolor\": \"white\"}, \"zaxis\": {\"backgroundcolor\": \"#E5ECF6\", \"gridcolor\": \"white\", \"gridwidth\": 2, \"linecolor\": \"white\", \"showbackground\": true, \"ticks\": \"\", \"zerolinecolor\": \"white\"}}, \"shapedefaults\": {\"line\": {\"color\": \"#2a3f5f\"}}, \"ternary\": {\"aaxis\": {\"gridcolor\": \"white\", \"linecolor\": \"white\", \"ticks\": \"\"}, \"baxis\": {\"gridcolor\": \"white\", \"linecolor\": \"white\", \"ticks\": \"\"}, \"bgcolor\": \"#E5ECF6\", \"caxis\": {\"gridcolor\": \"white\", \"linecolor\": \"white\", \"ticks\": \"\"}}, \"title\": {\"x\": 0.05}, \"xaxis\": {\"automargin\": true, \"gridcolor\": \"white\", \"linecolor\": \"white\", \"ticks\": \"\", \"title\": {\"standoff\": 15}, \"zerolinecolor\": \"white\", \"zerolinewidth\": 2}, \"yaxis\": {\"automargin\": true, \"gridcolor\": \"white\", \"linecolor\": \"white\", \"ticks\": \"\", \"title\": {\"standoff\": 15}, \"zerolinecolor\": \"white\", \"zerolinewidth\": 2}}}, \"title\": {\"text\": \"K-means BBC Sport news\"}, \"xaxis\": {\"anchor\": \"y\", \"domain\": [0.0, 1.0], \"title\": {\"text\": \"x\"}}, \"yaxis\": {\"anchor\": \"x\", \"domain\": [0.0, 1.0], \"title\": {\"text\": \"y\"}}},\n",
              "                        {\"responsive\": true}\n",
              "                    ).then(function(){\n",
              "                            \n",
              "var gd = document.getElementById('a8547976-35a6-40bf-9300-e42b47cc254b');\n",
              "var x = new MutationObserver(function (mutations, observer) {{\n",
              "        var display = window.getComputedStyle(gd).display;\n",
              "        if (!display || display === 'none') {{\n",
              "            console.log([gd, 'removed!']);\n",
              "            Plotly.purge(gd);\n",
              "            observer.disconnect();\n",
              "        }}\n",
              "}});\n",
              "\n",
              "// Listen for the removal of the full notebook cells\n",
              "var notebookContainer = gd.closest('#notebook-container');\n",
              "if (notebookContainer) {{\n",
              "    x.observe(notebookContainer, {childList: true});\n",
              "}}\n",
              "\n",
              "// Listen for the clearing of the current output cell\n",
              "var outputEl = gd.closest('.output');\n",
              "if (outputEl) {{\n",
              "    x.observe(outputEl, {childList: true});\n",
              "}}\n",
              "\n",
              "                        })\n",
              "                };\n",
              "                \n",
              "            </script>\n",
              "        </div>\n",
              "</body>\n",
              "</html>"
            ]
          },
          "metadata": {
            "tags": []
          }
        }
      ]
    },
    {
      "cell_type": "code",
      "metadata": {
        "id": "GYLTCbTWdFqc"
      },
      "source": [
        ""
      ],
      "execution_count": null,
      "outputs": []
    }
  ]
}