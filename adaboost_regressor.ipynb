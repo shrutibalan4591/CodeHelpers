{
  "nbformat": 4,
  "nbformat_minor": 0,
  "metadata": {
    "colab": {
      "name": "adaboost_regressor.ipynb",
      "provenance": [],
      "authorship_tag": "ABX9TyP3wIETXxpIaeIdDKsRZNF7"
    },
    "kernelspec": {
      "name": "python3",
      "display_name": "Python 3"
    },
    "language_info": {
      "name": "python"
    }
  },
  "cells": [
    {
      "cell_type": "code",
      "metadata": {
        "id": "XKBu_N1HmNTj"
      },
      "source": [
        "# Import libraries\n",
        "import numpy as np\n",
        "from sklearn.ensemble import AdaBoostRegressor\n",
        "from sklearn.datasets import load_boston\n",
        "from sklearn.model_selection import train_test_split\n",
        "from sklearn.model_selection import cross_val_score, KFold\n",
        "from sklearn.metrics import mean_squared_error\n",
        "import matplotlib.pyplot as plt"
      ],
      "execution_count": 8,
      "outputs": []
    },
    {
      "cell_type": "code",
      "metadata": {
        "id": "cQ840DI2m_xp"
      },
      "source": [
        "# Loading data\n",
        "boston = load_boston()\n",
        "x = boston.data\n",
        "y = boston.target"
      ],
      "execution_count": 2,
      "outputs": []
    },
    {
      "cell_type": "code",
      "metadata": {
        "id": "k_ItCvNPoDuH"
      },
      "source": [
        "# Split int train and test set\n",
        "xtrain, xtest, ytrain, ytest=train_test_split(x, y, test_size=0.15)"
      ],
      "execution_count": 3,
      "outputs": []
    },
    {
      "cell_type": "code",
      "metadata": {
        "colab": {
          "base_uri": "https://localhost:8080/"
        },
        "id": "H-AVd13XoLcZ",
        "outputId": "8e6dcd41-5122-4d69-eef9-4326832615a3"
      },
      "source": [
        "# Adaboost object and fitting model\n",
        "ada_reg = AdaBoostRegressor(n_estimators=100)\n",
        "ada_reg.fit(xtrain, ytrain)"
      ],
      "execution_count": 4,
      "outputs": [
        {
          "output_type": "execute_result",
          "data": {
            "text/plain": [
              "AdaBoostRegressor(base_estimator=None, learning_rate=1.0, loss='linear',\n",
              "                  n_estimators=100, random_state=None)"
            ]
          },
          "metadata": {
            "tags": []
          },
          "execution_count": 4
        }
      ]
    },
    {
      "cell_type": "code",
      "metadata": {
        "colab": {
          "base_uri": "https://localhost:8080/"
        },
        "id": "CvXcENVjoVnM",
        "outputId": "5fd31214-5e81-4be0-e006-0141b8f2e921"
      },
      "source": [
        "# - cross validataion \n",
        "scores = cross_val_score(ada_reg, xtrain,ytrain,cv=5)\n",
        "print(\"Mean cross-validataion score: %.2f\" % scores.mean())"
      ],
      "execution_count": 5,
      "outputs": [
        {
          "output_type": "stream",
          "text": [
            "Mean cross-validataion score: 0.81\n"
          ],
          "name": "stdout"
        }
      ]
    },
    {
      "cell_type": "code",
      "metadata": {
        "colab": {
          "base_uri": "https://localhost:8080/"
        },
        "id": "H5uPSoLCobfB",
        "outputId": "0c031739-b6e0-484c-aa8e-651239c389c6"
      },
      "source": [
        "# k-fold cross validataion \n",
        "kfold = KFold(n_splits=10, shuffle=True)\n",
        "kf_cv_scores = cross_val_score(ada_reg, xtrain, ytrain, cv=kfold )\n",
        "print(\"K-fold CV average score: %.2f\" % kf_cv_scores.mean())"
      ],
      "execution_count": 6,
      "outputs": [
        {
          "output_type": "stream",
          "text": [
            "K-fold CV average score: 0.79\n"
          ],
          "name": "stdout"
        }
      ]
    },
    {
      "cell_type": "code",
      "metadata": {
        "colab": {
          "base_uri": "https://localhost:8080/"
        },
        "id": "pxsZbcC0olR9",
        "outputId": "4e9ec771-f566-4878-a547-67db13756f63"
      },
      "source": [
        "# prediction\n",
        "ypred = ada_reg.predict(xtest)\n",
        "mse = mean_squared_error(ytest,ypred)\n",
        "print(\"MSE: %.2f\" % mse)\n",
        "print(\"RMSE: %.2f\" % np.sqrt(mse))"
      ],
      "execution_count": 9,
      "outputs": [
        {
          "output_type": "stream",
          "text": [
            "MSE: 30.06\n",
            "RMSE: 5.48\n"
          ],
          "name": "stdout"
        }
      ]
    },
    {
      "cell_type": "code",
      "metadata": {
        "colab": {
          "base_uri": "https://localhost:8080/",
          "height": 265
        },
        "id": "BHA41g9iosAj",
        "outputId": "855c7e28-8aa0-4dc4-955e-7e91b32bdaf1"
      },
      "source": [
        "# plotting the result\n",
        "x_ax = range(len(ytest))\n",
        "plt.scatter(x_ax, ytest, s=5, color=\"blue\", label=\"original\")\n",
        "plt.plot(x_ax, ypred, lw=0.8, color=\"red\", label=\"predicted\")\n",
        "plt.legend()\n",
        "plt.show()"
      ],
      "execution_count": 10,
      "outputs": [
        {
          "output_type": "display_data",
          "data": {
            "image/png": "[encoded data removed]",
            "text/plain": [
              "<Figure size 432x288 with 1 Axes>"
            ]
          },
          "metadata": {
            "tags": [],
            "needs_background": "light"
          }
        }
      ]
    },
    {
      "cell_type": "code",
      "metadata": {
        "id": "42dGlK1Io5IG"
      },
      "source": [
        ""
      ],
      "execution_count": null,
      "outputs": []
    }
  ]
}