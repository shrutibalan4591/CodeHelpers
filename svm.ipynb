{
  "nbformat": 4,
  "nbformat_minor": 0,
  "metadata": {
    "colab": {
      "name": "svm.ipynb",
      "provenance": [],
      "authorship_tag": "ABX9TyNtYt91hMM/Rd7Qf6mRDf7R"
    },
    "kernelspec": {
      "name": "python3",
      "display_name": "Python 3"
    }
  },
  "cells": [
    {
      "cell_type": "code",
      "metadata": {
        "id": "7onWnEGwC2lh"
      },
      "source": [
        "import pandas as pd\n",
        "dataset = pd.read_csv('/content/iphone_purchase_records.csv')"
      ],
      "execution_count": null,
      "outputs": []
    },
    {
      "cell_type": "code",
      "metadata": {
        "id": "JUuyIrwhyhEp"
      },
      "source": [
        "X = dataset.iloc[:,:-1].values\n",
        "y = dataset.iloc[:,3].values"
      ],
      "execution_count": null,
      "outputs": []
    },
    {
      "cell_type": "code",
      "metadata": {
        "id": "VPQEZzQoyqgF"
      },
      "source": [
        "from sklearn.preprocessing import LabelEncoder\n",
        "le_gender = LabelEncoder()\n",
        "X[:,0] = le_gender.fit_transform(X[:,0])"
      ],
      "execution_count": null,
      "outputs": []
    },
    {
      "cell_type": "code",
      "metadata": {
        "id": "L56LWVHQVW7K"
      },
      "source": [
        "from sklearn.model_selection import train_test_split\n",
        "X_train, X_test, Y_train, Y_test = train_test_split(X, y, test_size=0.25, random_state=0)"
      ],
      "execution_count": null,
      "outputs": []
    },
    {
      "cell_type": "markdown",
      "metadata": {
        "id": "axdKs2SYWRKe"
      },
      "source": [
        "Support Vector Machine algorithm also requires us to do feature scaling. We will use Standard Scaler for this purpose."
      ]
    },
    {
      "cell_type": "code",
      "metadata": {
        "id": "qlHp86SnWJ-c"
      },
      "source": [
        "from sklearn.preprocessing import StandardScaler\n",
        "ss = StandardScaler()\n",
        "X_train = ss.fit_transform(X_train)\n",
        "X_test = ss.transform(X_test)"
      ],
      "execution_count": null,
      "outputs": []
    },
    {
      "cell_type": "markdown",
      "metadata": {
        "id": "9flWgLyNW26F"
      },
      "source": [
        "We will train the SVM model on the training set. First we have to create an object of the SVC classifier and then call the fit method passing the X_train and y_train.\n",
        "\n",
        "The SVC class is part of the sklearn.svm library. When creating an object of this class, we have to specify the kernel type to be used in the algorithm. There are several that we can choose from like\n",
        "\n",
        "  linear,\n",
        "  rbf,\n",
        "  poly,\n",
        "  sigmoid\n",
        "\n",
        "Since this is a basic SVM that we are building, we will use the linear kernel. "
      ]
    },
    {
      "cell_type": "code",
      "metadata": {
        "id": "zCqD4A5UWtaP",
        "colab": {
          "base_uri": "https://localhost:8080/",
          "height": 90
        },
        "outputId": "daa354e9-e056-4b6a-ffc0-22b103bfb64d"
      },
      "source": [
        "from sklearn.svm import SVC\n",
        "classifier = SVC(kernel='linear', random_state=0)\n",
        "classifier.fit(X_train, Y_train)"
      ],
      "execution_count": null,
      "outputs": [
        {
          "output_type": "execute_result",
          "data": {
            "text/plain": [
              "SVC(C=1.0, break_ties=False, cache_size=200, class_weight=None, coef0=0.0,\n",
              "    decision_function_shape='ovr', degree=3, gamma='scale', kernel='linear',\n",
              "    max_iter=-1, probability=False, random_state=0, shrinking=True, tol=0.001,\n",
              "    verbose=False)"
            ]
          },
          "metadata": {
            "tags": []
          },
          "execution_count": 11
        }
      ]
    },
    {
      "cell_type": "code",
      "metadata": {
        "id": "nyt8Z4OLXY6S"
      },
      "source": [
        "y_pred = classifier.predict(X_test)"
      ],
      "execution_count": null,
      "outputs": []
    },
    {
      "cell_type": "code",
      "metadata": {
        "id": "ajxwbBRJbEO2",
        "colab": {
          "base_uri": "https://localhost:8080/",
          "height": 54
        },
        "outputId": "aab5aa06-ab45-455a-af98-9427ec289b3e"
      },
      "source": [
        "from sklearn import metrics\n",
        "cm = metrics.confusion_matrix(Y_test, y_pred) \n",
        "print(cm)"
      ],
      "execution_count": null,
      "outputs": [
        {
          "output_type": "stream",
          "text": [
            "[[66  2]\n",
            " [ 9 23]]\n"
          ],
          "name": "stdout"
        }
      ]
    },
    {
      "cell_type": "code",
      "metadata": {
        "id": "B-mrJBbccXuu",
        "colab": {
          "base_uri": "https://localhost:8080/",
          "height": 72
        },
        "outputId": "e77000be-7be3-486a-ecac-686a9f9747f5"
      },
      "source": [
        "accuracy = metrics.accuracy_score(Y_test, y_pred) \n",
        "print(\"Accuracy score:\",accuracy)\n",
        "precision = metrics.precision_score(Y_test, y_pred) \n",
        "print(\"Precision score:\",precision)\n",
        "recall = metrics.recall_score(Y_test, y_pred) \n",
        "print(\"Recall score:\",recall)"
      ],
      "execution_count": null,
      "outputs": [
        {
          "output_type": "stream",
          "text": [
            "Accuracy score: 0.89\n",
            "Precision score: 0.92\n",
            "Recall score: 0.71875\n"
          ],
          "name": "stdout"
        }
      ]
    },
    {
      "cell_type": "code",
      "metadata": {
        "id": "sZ8nY8w6cjIC"
      },
      "source": [
        ""
      ],
      "execution_count": null,
      "outputs": []
    }
  ]
}