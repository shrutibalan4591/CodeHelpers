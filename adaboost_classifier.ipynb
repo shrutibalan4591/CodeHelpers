{
  "nbformat": 4,
  "nbformat_minor": 0,
  "metadata": {
    "colab": {
      "name": "adaboost_classifier.ipynb",
      "provenance": [],
      "authorship_tag": "ABX9TyMrsfhRE0NKfpwR759VeQ2I"
    },
    "kernelspec": {
      "name": "python3",
      "display_name": "Python 3"
    },
    "language_info": {
      "name": "python"
    }
  },
  "cells": [
    {
      "cell_type": "code",
      "metadata": {
        "id": "tXxEX-eBrA2S"
      },
      "source": [
        "# Import libraries\n",
        "from sklearn.ensemble import AdaBoostClassifier\n",
        "from sklearn.tree import DecisionTreeClassifier\n",
        "from sklearn.datasets import load_breast_cancer\n",
        "import pandas as pd\n",
        "import numpy as np\n",
        "from sklearn.model_selection import train_test_split\n",
        "from sklearn.metrics import confusion_matrix\n",
        "from sklearn.preprocessing import LabelEncoder"
      ],
      "execution_count": 1,
      "outputs": []
    },
    {
      "cell_type": "code",
      "metadata": {
        "id": "LxHHmU4mUkea"
      },
      "source": [
        "# Load dataset\n",
        "breast_cancer = load_breast_cancer()\n",
        "X = pd.DataFrame(breast_cancer.data, columns=breast_cancer.feature_names)\n",
        "y = pd.Categorical.from_codes(breast_cancer.target, breast_cancer.target_names)"
      ],
      "execution_count": 2,
      "outputs": []
    },
    {
      "cell_type": "code",
      "metadata": {
        "id": "hMXgYdj0UyI-"
      },
      "source": [
        "# Whenever we are working with categorical feature, we must encode it as numbers. \n",
        "# So, we’ll set malignant to 1 and benign to 0.\n",
        "encoder = LabelEncoder()\n",
        "binary_encoded_y = pd.Series(encoder.fit_transform(y))"
      ],
      "execution_count": 3,
      "outputs": []
    },
    {
      "cell_type": "code",
      "metadata": {
        "id": "Csf7m0r8U-6a"
      },
      "source": [
        "# split our data into training and test sets\n",
        "train_X, test_X, train_y, test_y = train_test_split(X, binary_encoded_y, random_state=1)"
      ],
      "execution_count": 4,
      "outputs": []
    },
    {
      "cell_type": "code",
      "metadata": {
        "colab": {
          "base_uri": "https://localhost:8080/"
        },
        "id": "XOig5yxtVFuA",
        "outputId": "ef14ce4d-4330-4d0f-cdbf-a472e6f86fd6"
      },
      "source": [
        "# Fit the model\n",
        "classifier = AdaBoostClassifier(\n",
        "                                DecisionTreeClassifier(max_depth=1),\n",
        "                                n_estimators=200\n",
        "                               )\n",
        "classifier.fit(train_X, train_y)"
      ],
      "execution_count": 5,
      "outputs": [
        {
          "output_type": "execute_result",
          "data": {
            "text/plain": [
              "AdaBoostClassifier(algorithm='SAMME.R',\n",
              "                   base_estimator=DecisionTreeClassifier(ccp_alpha=0.0,\n",
              "                                                         class_weight=None,\n",
              "                                                         criterion='gini',\n",
              "                                                         max_depth=1,\n",
              "                                                         max_features=None,\n",
              "                                                         max_leaf_nodes=None,\n",
              "                                                         min_impurity_decrease=0.0,\n",
              "                                                         min_impurity_split=None,\n",
              "                                                         min_samples_leaf=1,\n",
              "                                                         min_samples_split=2,\n",
              "                                                         min_weight_fraction_leaf=0.0,\n",
              "                                                         presort='deprecated',\n",
              "                                                         random_state=None,\n",
              "                                                         splitter='best'),\n",
              "                   learning_rate=1.0, n_estimators=200, random_state=None)"
            ]
          },
          "metadata": {
            "tags": []
          },
          "execution_count": 5
        }
      ]
    },
    {
      "cell_type": "code",
      "metadata": {
        "id": "EXWMuvlEVUfN"
      },
      "source": [
        "# Predictions\n",
        "predictions = classifier.predict(test_X)"
      ],
      "execution_count": 6,
      "outputs": []
    },
    {
      "cell_type": "code",
      "metadata": {
        "colab": {
          "base_uri": "https://localhost:8080/"
        },
        "id": "fm-8u6KXVbLM",
        "outputId": "02421c4b-6f0b-4250-a88e-f02fcd8cbd2f"
      },
      "source": [
        "confusion_matrix(test_y, predictions)"
      ],
      "execution_count": 7,
      "outputs": [
        {
          "output_type": "execute_result",
          "data": {
            "text/plain": [
              "array([[86,  2],\n",
              "       [ 3, 52]])"
            ]
          },
          "metadata": {
            "tags": []
          },
          "execution_count": 7
        }
      ]
    },
    {
      "cell_type": "markdown",
      "metadata": {
        "id": "PRKWxrRgVgok"
      },
      "source": [
        "Pretty good performance!!"
      ]
    },
    {
      "cell_type": "code",
      "metadata": {
        "id": "mlXSKlE6Vf0J"
      },
      "source": [
        ""
      ],
      "execution_count": null,
      "outputs": []
    }
  ]
}