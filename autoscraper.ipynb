{
  "nbformat": 4,
  "nbformat_minor": 0,
  "metadata": {
    "colab": {
      "name": "autoscraper",
      "provenance": [],
      "collapsed_sections": []
    },
    "kernelspec": {
      "name": "python3",
      "display_name": "Python 3"
    },
    "language_info": {
      "name": "python"
    }
  },
  "cells": [
    {
      "cell_type": "code",
      "metadata": {
        "id": "Jp95R7LRdyQT"
      },
      "source": [
        "from autoscraper import AutoScraper"
      ],
      "execution_count": null,
      "outputs": []
    },
    {
      "cell_type": "code",
      "metadata": {
        "id": "mVbZ0A_2ecj3"
      },
      "source": [
        "url=\"https://www.flipkart.com/search?q=hp%20laptop\"\n",
        "\n",
        "wanted_list=[\"₹23,990\", \"HP 15s Dual Core 3020e - (4 GB/1 TB HDD/Windows 10 Home...\"]"
      ],
      "execution_count": null,
      "outputs": []
    },
    {
      "cell_type": "code",
      "metadata": {
        "colab": {
          "base_uri": "https://localhost:8080/"
        },
        "id": "9mTF_4iUfeEJ",
        "outputId": "793b30f6-3237-404f-a753-0f51eba40b0b"
      },
      "source": [
        "scraper=AutoScraper()\n",
        "result=scraper.build(url,wanted_list)\n",
        "print(result)"
      ],
      "execution_count": null,
      "outputs": [
        {
          "output_type": "stream",
          "text": [
            "['₹51,490', '₹23,990', '₹34,989', '₹64,990', '₹36,990', '₹49,990', '₹24,780', '₹62,978', '₹45,990', '₹58,990', '₹39,990', '₹31,490', '₹21,990', '₹75,990', '₹48,990', '₹61,990', '₹41,990', '₹41,290', '₹63,990', '₹26,990', '₹79,990', '₹25,990', '₹69,990', '₹72,990', '₹74,990', '₹57,998', '₹29,990', '₹1,21,990', '₹85,990', '₹39,991', '₹78,990', '₹99,990', '₹24,400', '₹38,490', '₹34,890', '₹31,500', '₹83,990', 'HP Pavilion Gaming Ryzen 5 Quad Core 3550H - (8 GB/1 TB...', 'HP 15s Dual Core 3020e - (4 GB/1 TB HDD/Windows 10 Home...', 'HP 15s Ryzen 3 Dual Core 3250U - (8 GB/1 TB HDD/Windows...', 'HP Envy x360 Ryzen 5 Hexa Core 4500U - (8 GB/256 GB SSD...', 'HP 14s Core i3 10th Gen - (8 GB/256 GB SSD/Windows 10 H...', 'HP Pavilion x360 Core i3 10th Gen - (8 GB/512 GB SSD/Wi...', 'HP 15s Celeron Dual Core - (4 GB/1 TB HDD/Windows 10 Ho...', 'HP 15s Core i5 11th Gen - (8 GB/1 TB HDD/256 GB SSD/Win...', 'HP Pavilion x360 Core i3 10th Gen - (8 GB/256 GB SSD/Wi...', 'HP 14s Core i5 10th Gen - (8 GB/1 TB HDD/256 GB SSD/Win...', 'HP Ryzen 5 Quad Core - (8 GB/1 TB HDD/Windows 10 Home) ...', 'HP 15 Ryzen 3 Dual Core 3200U - (4 GB/1 TB HDD/Windows ...', 'HP Chromebook MT8183 - (4 GB/64 GB EMMC Storage/Chrome ...', 'HP Envy x360 Ryzen 5 Hexa Core 4500U - (8 GB/512 GB SSD...', 'HP Pavilion x360 Core i3 11th Gen - (8 GB/256 GB SSD/Wi...', 'HP Pavilion Gaming Ryzen 5 Hexa Core 4600H - (8 GB/1 TB...', 'HP Pavilion x360 Core i5 10th Gen - (8 GB/512 GB SSD/Wi...', 'HP 245 G7 Ryzen 5 Quad Core 2500U - (8 GB/1 TB HDD/Wind...', 'HP Core i3 11th Gen - (8 GB/256 GB SSD/Windows 10 Home)...', 'HP Pavilion x360 Core i5 11th Gen - (8 GB/512 GB SSD/Wi...', 'HP Chromebook x360 Core i3 10th Gen - (4 GB/64 GB EMMC ...', 'HP 15s Pentium Gold - (4 GB/1 TB HDD/Windows 10 Home) 1...', 'HP Pavilion Core i7 10th Gen - (16 GB + 32 GB Optane/51...', 'HP 15s Athlon Dual Core - (4 GB/1 TB HDD/Windows 10 Hom...', 'HP Omen Ryzen 5 Hexa Core 4600H - (8 GB/512 GB SSD/Wind...', 'HP 14s Core i7 10th Gen - (8 GB/512 GB SSD/Windows 10 H...', 'HP Pavilion x360 Core i7 10th Gen - (8 GB/512 GB SSD/Wi...', 'HP 15s Ryzen 3 Dual Core 3250U - (4 GB/1 TB HDD/Windows...', 'HP Omen 15 Ryzen 7 Octa Core 4800H - (16 GB/1 TB SSD/Wi...', 'HP Omen Ryzen 7 Octa Core 4800H - (8 GB/512 GB SSD/Wind...', 'HP 14s Core i3 10th Gen - (4 GB/1 TB HDD/Windows 10 Hom...', 'HP Envy Core i5 10th Gen - (8 GB/512 GB SSD/Windows 10 ...', 'HP Spectre x360 Core i5 10th Gen - (8 GB/512 GB SSD/Win...', 'HP Athlon Dual Core 3050U 3rd Gen - (4 GB/1 TB HDD/Wind...', 'HP 15s Core i3 11th Gen - (8 GB/1 TB HDD/Windows 10 Hom...', 'HP Ryzen 5 Quad Core - (4 GB/256 GB SSD/DOS) 245 G7 Thi...', 'HP Ryzen 3 Quad Core 3300U - (4 GB/1 TB HDD/Windows 10 ...', 'HP Pavilion Gaming Core i5 10th Gen - (8 GB/1 TB HDD/25...']\n"
          ],
          "name": "stdout"
        }
      ]
    },
    {
      "cell_type": "code",
      "metadata": {
        "colab": {
          "base_uri": "https://localhost:8080/"
        },
        "id": "bivYSIq8fhkw",
        "outputId": "519bb950-ce20-4df4-8346-47161a1c3ff1"
      },
      "source": [
        "scraper.get_result_similar(url,grouped=True)"
      ],
      "execution_count": null,
      "outputs": [
        {
          "output_type": "execute_result",
          "data": {
            "text/plain": [
              "{'rule_n5n5': ['HP Pavilion Gaming Ryzen 5 Quad Core 3550H - (8 GB/1 TB...',\n",
              "  'HP 15s Dual Core 3020e - (4 GB/1 TB HDD/Windows 10 Home...',\n",
              "  'HP 14s Core i3 10th Gen - (8 GB/256 GB SSD/Windows 10 H...',\n",
              "  'HP Envy x360 Ryzen 5 Hexa Core 4500U - (8 GB/256 GB SSD...',\n",
              "  'HP 15s Ryzen 3 Dual Core 3250U - (8 GB/1 TB HDD/Windows...',\n",
              "  'HP Pavilion x360 Core i3 10th Gen - (8 GB/512 GB SSD/Wi...',\n",
              "  'HP 15s Core i5 11th Gen - (8 GB/1 TB HDD/256 GB SSD/Win...',\n",
              "  'HP Pavilion x360 Core i3 10th Gen - (8 GB/256 GB SSD/Wi...',\n",
              "  'HP 15s Celeron Dual Core - (4 GB/1 TB HDD/Windows 10 Ho...',\n",
              "  'HP Ryzen 5 Quad Core - (8 GB/1 TB HDD/Windows 10 Home) ...',\n",
              "  'HP 15 Ryzen 3 Dual Core 3200U - (4 GB/1 TB HDD/Windows ...',\n",
              "  'HP Chromebook MT8183 - (4 GB/64 GB EMMC Storage/Chrome ...',\n",
              "  'HP Pavilion x360 Core i3 11th Gen - (8 GB/256 GB SSD/Wi...',\n",
              "  'HP Envy x360 Ryzen 5 Hexa Core 4500U - (8 GB/512 GB SSD...',\n",
              "  'HP Pavilion Gaming Ryzen 5 Hexa Core 4600H - (8 GB/1 TB...',\n",
              "  'HP Pavilion x360 Core i5 10th Gen - (8 GB/512 GB SSD/Wi...',\n",
              "  'HP Core i3 11th Gen - (8 GB/256 GB SSD/Windows 10 Home)...',\n",
              "  'HP 245 G7 Ryzen 5 Quad Core 2500U - (8 GB/1 TB HDD/Wind...',\n",
              "  'HP Pavilion Core i7 10th Gen - (16 GB + 32 GB Optane/51...',\n",
              "  'HP Chromebook x360 Core i3 10th Gen - (4 GB/64 GB EMMC ...',\n",
              "  'HP 15s Pentium Gold - (4 GB/1 TB HDD/Windows 10 Home) 1...',\n",
              "  'HP 15s Athlon Dual Core - (4 GB/1 TB HDD/Windows 10 Hom...',\n",
              "  'HP Omen Ryzen 5 Hexa Core 4600H - (8 GB/512 GB SSD/Wind...',\n",
              "  'HP 14s Core i7 10th Gen - (8 GB/512 GB SSD/Windows 10 H...',\n",
              "  'HP Pavilion x360 Core i5 11th Gen - (8 GB/512 GB SSD/Wi...',\n",
              "  'HP Omen 15 Ryzen 7 Octa Core 4800H - (16 GB/1 TB SSD/Wi...',\n",
              "  'HP 15s Ryzen 3 Dual Core 3250U - (4 GB/1 TB HDD/Windows...',\n",
              "  'HP Pavilion x360 Core i3 11th Gen - (8 GB/512 GB SSD/Wi...',\n",
              "  'HP Pavilion x360 Core i7 10th Gen - (8 GB/512 GB SSD/Wi...',\n",
              "  'HP 14s Core i5 10th Gen - (8 GB/1 TB HDD/256 GB SSD/Win...',\n",
              "  'HP Omen Ryzen 5 Hexa Core 4600H - (8 GB/512 GB SSD/Wind...',\n",
              "  'HP 14s Core i3 10th Gen - (4 GB/1 TB HDD/Windows 10 Hom...',\n",
              "  'HP Omen Ryzen 7 Octa Core 4800H - (8 GB/512 GB SSD/Wind...',\n",
              "  'HP Envy Core i5 10th Gen - (8 GB/512 GB SSD/Windows 10 ...',\n",
              "  'HP Athlon Dual Core 3050U 3rd Gen - (4 GB/1 TB HDD/Wind...',\n",
              "  'HP Spectre x360 Core i5 10th Gen - (8 GB/512 GB SSD/Win...',\n",
              "  'HP 15s Core i3 11th Gen - (8 GB/1 TB HDD/Windows 10 Hom...',\n",
              "  'HP Ryzen 5 Quad Core - (4 GB/256 GB SSD/DOS) 245 G7 Thi...',\n",
              "  'HP Ryzen 3 Quad Core 3300U - (4 GB/1 TB HDD/Windows 10 ...',\n",
              "  'HP 14a Celeron Dual Core - (4 GB/64 GB EMMC Storage/Chr...'],\n",
              " 'rule_r9mw': ['₹51,490',\n",
              "  '₹23,990',\n",
              "  '₹36,990',\n",
              "  '₹64,990',\n",
              "  '₹34,989',\n",
              "  '₹49,990',\n",
              "  '₹62,978',\n",
              "  '₹45,990',\n",
              "  '₹24,780',\n",
              "  '₹39,990',\n",
              "  '₹31,490',\n",
              "  '₹21,990',\n",
              "  '₹48,990',\n",
              "  '₹75,990',\n",
              "  '₹64,990',\n",
              "  '₹61,990',\n",
              "  '₹41,290',\n",
              "  '₹41,990',\n",
              "  '₹79,990',\n",
              "  '₹39,990',\n",
              "  '₹26,990',\n",
              "  '₹25,990',\n",
              "  '₹69,990',\n",
              "  '₹72,990',\n",
              "  '₹63,990',\n",
              "  '₹1,21,990',\n",
              "  '₹29,990',\n",
              "  '₹53,890',\n",
              "  '₹74,990',\n",
              "  '₹57,998',\n",
              "  '₹79,990',\n",
              "  '₹39,991',\n",
              "  '₹85,990',\n",
              "  '₹78,990',\n",
              "  '₹24,400',\n",
              "  '₹99,990',\n",
              "  '₹38,490',\n",
              "  '₹34,890',\n",
              "  '₹31,500',\n",
              "  '₹24,490']}"
            ]
          },
          "metadata": {
            "tags": []
          },
          "execution_count": 49
        }
      ]
    },
    {
      "cell_type": "code",
      "metadata": {
        "id": "T0qhOYCHfxTu"
      },
      "source": [
        "scraper.set_rule_aliases({'rule_n5n5':'Title','rule_r9mw':'Price'})\n",
        "scraper.keep_rules(['rule_n5n5','rule_r9mw'])\n",
        "scraper.save('search')"
      ],
      "execution_count": null,
      "outputs": []
    },
    {
      "cell_type": "code",
      "metadata": {
        "id": "Kp7uiYSghNnt"
      },
      "source": [
        ""
      ],
      "execution_count": null,
      "outputs": []
    }
  ]
}